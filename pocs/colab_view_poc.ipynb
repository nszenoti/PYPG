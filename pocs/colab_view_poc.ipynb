{
  "nbformat": 4,
  "nbformat_minor": 0,
  "metadata": {
    "colab": {
      "provenance": []
    },
    "kernelspec": {
      "name": "python3",
      "display_name": "Python 3"
    },
    "language_info": {
      "name": "python"
    }
  },
  "cells": [
    {
      "cell_type": "markdown",
      "source": [
        "This notebook is POC for checking Colab View In Place in this notebook\n",
        "\n",
        "- Display another notebook (in html) format inplace here in this notebook !"
      ],
      "metadata": {
        "id": "On5QxGg0aXvk"
      }
    },
    {
      "cell_type": "markdown",
      "source": [
        "**NOTE: This will only work when converted to html !!**\n",
        "\n",
        "Inorder to convert this notebook to html ->\n",
        "\n",
        "refer : [Convert ipynb to html](https://colab.research.google.com/github/Mostafa-MR/Convert_ipynb_to_HTML_in_Colab/blob/main/Convert_ipynb_to_HTML_in_Colab.ipynb)\n",
        "\n",
        "\n",
        "As colab doesnt provide downloading directly as html !!\n",
        "\n",
        "So follow this steps\n",
        "\n",
        "1. Download this notebook as .ipynb\n",
        "2. use above url (ie colab) to convert the downloaded notebook"
      ],
      "metadata": {
        "id": "MUz3QighqGAZ"
      }
    },
    {
      "cell_type": "markdown",
      "source": [
        "---"
      ],
      "metadata": {
        "id": "150XWK4kq3ql"
      }
    },
    {
      "cell_type": "markdown",
      "source": [
        "***INLINE VIEW In MarkDown Cell***"
      ],
      "metadata": {
        "id": "3ZYgDGntq8sP"
      }
    },
    {
      "cell_type": "markdown",
      "source": [
        "<!-- View full notebook link -->\n",
        "<a href=\"https://nvshah.github.io/pgpaiml/medical_assistant_soln.html\" target=\"_blank\">🔗 View Full Notebook in New Tab</a><br><br>\n",
        "\n",
        "<!-- Buttons -->\n",
        "<button id=\"loadBtn\" onclick=\"loadHTML()\">📥 View Inline</button>\n",
        "<button id=\"hideBtn\" onclick=\"hideHTML()\" style=\"display:none;\">❌ Hide Inline View</button>\n",
        "\n",
        "<!-- Container for embedded HTML -->\n",
        "<div id=\"notebook-container\" style=\"margin-top: 20px; border: 1px solid #ccc; padding: 10px;\"></div>\n",
        "\n",
        "<!-- JavaScript -->\n",
        "<script>\n",
        "  function loadHTML() {\n",
        "    const container = document.getElementById(\"notebook-container\");\n",
        "    fetch(\"https://nvshah.github.io/pgpaiml/medical_assistant_soln.html\")\n",
        "      .then(response => response.text())\n",
        "      .then(html => {\n",
        "        container.innerHTML = html;\n",
        "        document.getElementById(\"loadBtn\").style.display = \"none\";\n",
        "        document.getElementById(\"hideBtn\").style.display = \"inline\";\n",
        "      })\n",
        "      .catch(error => {\n",
        "        container.innerHTML = \"<p style='color: red;'>Failed to load notebook HTML.</p>\";\n",
        "        console.error(\"Error loading HTML:\", error);\n",
        "      });\n",
        "  }\n",
        "\n",
        "  function hideHTML() {\n",
        "    const container = document.getElementById(\"notebook-container\");\n",
        "    container.innerHTML = \"\";\n",
        "    document.getElementById(\"loadBtn\").style.display = \"inline\";\n",
        "    document.getElementById(\"hideBtn\").style.display = \"none\";\n",
        "  }\n",
        "</script>\n"
      ],
      "metadata": {
        "id": "qs9gpZFQb50R"
      }
    }
  ]
}