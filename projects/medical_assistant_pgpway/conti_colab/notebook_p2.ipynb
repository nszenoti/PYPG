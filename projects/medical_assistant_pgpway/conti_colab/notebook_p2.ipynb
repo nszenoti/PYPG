{
  "cells": [
    {
      "cell_type": "code",
      "execution_count": 1,
      "metadata": {
        "colab": {
          "base_uri": "https://localhost:8080/"
        },
        "id": "c3cIALHdcUM8",
        "outputId": "26377e92-1b65-4bef-b3f4-6cc5b2370d07"
      },
      "outputs": [
        {
          "output_type": "stream",
          "name": "stdout",
          "text": [
            "Mounted at /content/drive\n"
          ]
        }
      ],
      "source": [
        "# Connect to Google Drive\n",
        "from google.colab import drive\n",
        "drive.mount('/content/drive', force_remount=True)"
      ]
    },
    {
      "cell_type": "code",
      "execution_count": 2,
      "metadata": {
        "colab": {
          "base_uri": "https://localhost:8080/"
        },
        "id": "Q2tRSL5ZugJR",
        "outputId": "6fb597f7-2e70-4b27-e476-df12054d98f9"
      },
      "outputs": [
        {
          "output_type": "stream",
          "name": "stdout",
          "text": [
            "/content/drive/MyDrive/Colab Notebooks/medical_assist_academicway\n"
          ]
        }
      ],
      "source": [
        "%cd \"drive/MyDrive/Colab Notebooks/medical_assist_academicway\""
      ]
    },
    {
      "cell_type": "code",
      "execution_count": 3,
      "metadata": {
        "colab": {
          "base_uri": "https://localhost:8080/"
        },
        "id": "XC7sXRmmuxwk",
        "outputId": "5479c4d0-904a-46c7-ead5-c22ae541f560"
      },
      "outputs": [
        {
          "output_type": "stream",
          "name": "stdout",
          "text": [
            "/content/drive/MyDrive/Colab Notebooks/medical_assist_academicway\n"
          ]
        }
      ],
      "source": [
        "!pwd"
      ]
    },
    {
      "cell_type": "code",
      "execution_count": 4,
      "metadata": {
        "colab": {
          "base_uri": "https://localhost:8080/"
        },
        "id": "tyTiZtAoufVb",
        "outputId": "5a0575fb-c983-4637-da40-802259faa6aa"
      },
      "outputs": [
        {
          "output_type": "stream",
          "name": "stdout",
          "text": [
            "/bin/bash: line 1: nvidia-smi: command not found\n"
          ]
        }
      ],
      "source": [
        "# This will show detailed GPU information if available\n",
        "!nvidia-smi"
      ]
    },
    {
      "cell_type": "markdown",
      "metadata": {
        "id": "bk_LVzhKwZD5"
      },
      "source": [
        "## Setup"
      ]
    },
    {
      "cell_type": "markdown",
      "metadata": {
        "id": "q6gox0xvImLg"
      },
      "source": [
        "**NOTE: refer https://huggingface.co/microsoft/Phi-3-mini-4k-instruct-gguf for phi-3 mini setup once**"
      ]
    },
    {
      "cell_type": "markdown",
      "metadata": {
        "id": "4P6UmussCaNe"
      },
      "source": [
        "#### Essential Libraries for Task"
      ]
    },
    {
      "cell_type": "markdown",
      "metadata": {
        "id": "BCI83A4yA0_7"
      },
      "source": [
        "The cu121 (CUDA 12.1) version works with your CUDA 12.4 because of backward compatibility within major CUDA versions. CUDA 12.1 libraries are generally compatible with CUDA 12.4, as NVIDIA maintains compatibility within major versions.\n",
        "\n",
        "Regarding which approach is better:\n",
        "\n",
        "Using `CMAKE_ARGS=\"-DLLAMA_CUBLAS=on\"` might be slightly more beneficial because:\n",
        "\n",
        "1. It compiles specifically against your exact CUDA version (12.4)\n",
        "2. You can add additional optimization flags if needed\n",
        "3. It ensures CUBLAS is explicitly enabled with your specific GPU drivers\n",
        "\n",
        "The difference in performance is likely to be minor, but if you want the most optimized build for your specific environment, using the CMAKE_ARGS approach would be preferable.\n",
        "\n",
        "If you're concerned about getting the best performance, you could cancel the current installation and use:\n",
        "\n",
        "```language=python\n",
        "!CMAKE_ARGS=\"-DLLAMA_CUBLAS=on -DLLAMA_CUDA_F16=on\" pip install llama-cpp-python\n",
        "```\n",
        "\n",
        "This explicitly enables CUBLAS and FP16 support, which can improve performance on T4 GPUs.\n"
      ]
    },
    {
      "cell_type": "code",
      "execution_count": 5,
      "metadata": {
        "colab": {
          "base_uri": "https://localhost:8080/"
        },
        "id": "ZFB5fE5UwbJh",
        "outputId": "e2e40252-06ce-4cc6-edc0-b8e24c32d3c9"
      },
      "outputs": [
        {
          "output_type": "stream",
          "name": "stdout",
          "text": [
            "Looking in indexes: https://pypi.org/simple, https://abetlen.github.io/llama-cpp-python/whl/cu124\n",
            "Collecting llama-cpp-python\n",
            "  Downloading llama_cpp_python-0.3.9.tar.gz (67.9 MB)\n",
            "\u001b[2K     \u001b[90m━━━━━━━━━━━━━━━━━━━━━━━━━━━━━━━━━━━━━━━━\u001b[0m \u001b[32m67.9/67.9 MB\u001b[0m \u001b[31m14.9 MB/s\u001b[0m eta \u001b[36m0:00:00\u001b[0m\n",
            "\u001b[?25h  Installing build dependencies ... \u001b[?25l\u001b[?25hdone\n",
            "  Getting requirements to build wheel ... \u001b[?25l\u001b[?25hdone\n",
            "  Installing backend dependencies ... \u001b[?25l\u001b[?25hdone\n",
            "  Preparing metadata (pyproject.toml) ... \u001b[?25l\u001b[?25hdone\n",
            "Collecting typing-extensions>=4.5.0 (from llama-cpp-python)\n",
            "  Downloading typing_extensions-4.13.2-py3-none-any.whl.metadata (3.0 kB)\n",
            "Collecting numpy>=1.20.0 (from llama-cpp-python)\n",
            "  Downloading numpy-2.2.5-cp311-cp311-manylinux_2_17_x86_64.manylinux2014_x86_64.whl.metadata (62 kB)\n",
            "\u001b[2K     \u001b[90m━━━━━━━━━━━━━━━━━━━━━━━━━━━━━━━━━━━━━━━\u001b[0m \u001b[32m62.0/62.0 kB\u001b[0m \u001b[31m218.8 kB/s\u001b[0m eta \u001b[36m0:00:00\u001b[0m\n",
            "\u001b[?25hCollecting diskcache>=5.6.1 (from llama-cpp-python)\n",
            "  Downloading diskcache-5.6.3-py3-none-any.whl.metadata (20 kB)\n",
            "Collecting jinja2>=2.11.3 (from llama-cpp-python)\n",
            "  Downloading jinja2-3.1.6-py3-none-any.whl.metadata (2.9 kB)\n",
            "Collecting MarkupSafe>=2.0 (from jinja2>=2.11.3->llama-cpp-python)\n",
            "  Downloading MarkupSafe-3.0.2-cp311-cp311-manylinux_2_17_x86_64.manylinux2014_x86_64.whl.metadata (4.0 kB)\n",
            "Downloading diskcache-5.6.3-py3-none-any.whl (45 kB)\n",
            "\u001b[2K   \u001b[90m━━━━━━━━━━━━━━━━━━━━━━━━━━━━━━━━━━━━━━━━\u001b[0m \u001b[32m45.5/45.5 kB\u001b[0m \u001b[31m4.3 MB/s\u001b[0m eta \u001b[36m0:00:00\u001b[0m\n",
            "\u001b[?25hDownloading jinja2-3.1.6-py3-none-any.whl (134 kB)\n",
            "\u001b[2K   \u001b[90m━━━━━━━━━━━━━━━━━━━━━━━━━━━━━━━━━━━━━━━━\u001b[0m \u001b[32m134.9/134.9 kB\u001b[0m \u001b[31m13.6 MB/s\u001b[0m eta \u001b[36m0:00:00\u001b[0m\n",
            "\u001b[?25hDownloading numpy-2.2.5-cp311-cp311-manylinux_2_17_x86_64.manylinux2014_x86_64.whl (16.4 MB)\n",
            "\u001b[2K   \u001b[90m━━━━━━━━━━━━━━━━━━━━━━━━━━━━━━━━━━━━━━━━\u001b[0m \u001b[32m16.4/16.4 MB\u001b[0m \u001b[31m106.7 MB/s\u001b[0m eta \u001b[36m0:00:00\u001b[0m\n",
            "\u001b[?25hDownloading typing_extensions-4.13.2-py3-none-any.whl (45 kB)\n",
            "\u001b[2K   \u001b[90m━━━━━━━━━━━━━━━━━━━━━━━━━━━━━━━━━━━━━━━━\u001b[0m \u001b[32m45.8/45.8 kB\u001b[0m \u001b[31m4.2 MB/s\u001b[0m eta \u001b[36m0:00:00\u001b[0m\n",
            "\u001b[?25hDownloading MarkupSafe-3.0.2-cp311-cp311-manylinux_2_17_x86_64.manylinux2014_x86_64.whl (23 kB)\n",
            "Building wheels for collected packages: llama-cpp-python\n",
            "  Building wheel for llama-cpp-python (pyproject.toml) ... \u001b[?25l\u001b[?25hdone\n",
            "  Created wheel for llama-cpp-python: filename=llama_cpp_python-0.3.9-cp311-cp311-linux_x86_64.whl size=4127106 sha256=d4e3f0cff1b13d429a8c5cb869ec62e899d599c2aa99d617f91e1e889911be88\n",
            "  Stored in directory: /root/.cache/pip/wheels/9e/8f/bf/148c8eb7d69021eccd6eae6444f3accd48347587054ffd24e5\n",
            "Successfully built llama-cpp-python\n",
            "Installing collected packages: typing-extensions, numpy, MarkupSafe, diskcache, jinja2, llama-cpp-python\n",
            "  Attempting uninstall: typing-extensions\n",
            "    Found existing installation: typing_extensions 4.13.2\n",
            "    Uninstalling typing_extensions-4.13.2:\n",
            "      Successfully uninstalled typing_extensions-4.13.2\n",
            "  Attempting uninstall: numpy\n",
            "    Found existing installation: numpy 2.0.2\n",
            "    Uninstalling numpy-2.0.2:\n",
            "      Successfully uninstalled numpy-2.0.2\n",
            "  Attempting uninstall: MarkupSafe\n",
            "    Found existing installation: MarkupSafe 3.0.2\n",
            "    Uninstalling MarkupSafe-3.0.2:\n",
            "      Successfully uninstalled MarkupSafe-3.0.2\n",
            "  Attempting uninstall: jinja2\n",
            "    Found existing installation: Jinja2 3.1.6\n",
            "    Uninstalling Jinja2-3.1.6:\n",
            "      Successfully uninstalled Jinja2-3.1.6\n",
            "\u001b[31mERROR: pip's dependency resolver does not currently take into account all the packages that are installed. This behaviour is the source of the following dependency conflicts.\n",
            "torch 2.6.0+cu124 requires nvidia-cublas-cu12==12.4.5.8; platform_system == \"Linux\" and platform_machine == \"x86_64\", but you have nvidia-cublas-cu12 12.5.3.2 which is incompatible.\n",
            "torch 2.6.0+cu124 requires nvidia-cuda-cupti-cu12==12.4.127; platform_system == \"Linux\" and platform_machine == \"x86_64\", but you have nvidia-cuda-cupti-cu12 12.5.82 which is incompatible.\n",
            "torch 2.6.0+cu124 requires nvidia-cuda-nvrtc-cu12==12.4.127; platform_system == \"Linux\" and platform_machine == \"x86_64\", but you have nvidia-cuda-nvrtc-cu12 12.5.82 which is incompatible.\n",
            "torch 2.6.0+cu124 requires nvidia-cuda-runtime-cu12==12.4.127; platform_system == \"Linux\" and platform_machine == \"x86_64\", but you have nvidia-cuda-runtime-cu12 12.5.82 which is incompatible.\n",
            "torch 2.6.0+cu124 requires nvidia-cudnn-cu12==9.1.0.70; platform_system == \"Linux\" and platform_machine == \"x86_64\", but you have nvidia-cudnn-cu12 9.3.0.75 which is incompatible.\n",
            "torch 2.6.0+cu124 requires nvidia-cufft-cu12==11.2.1.3; platform_system == \"Linux\" and platform_machine == \"x86_64\", but you have nvidia-cufft-cu12 11.2.3.61 which is incompatible.\n",
            "torch 2.6.0+cu124 requires nvidia-curand-cu12==10.3.5.147; platform_system == \"Linux\" and platform_machine == \"x86_64\", but you have nvidia-curand-cu12 10.3.6.82 which is incompatible.\n",
            "torch 2.6.0+cu124 requires nvidia-cusolver-cu12==11.6.1.9; platform_system == \"Linux\" and platform_machine == \"x86_64\", but you have nvidia-cusolver-cu12 11.6.3.83 which is incompatible.\n",
            "torch 2.6.0+cu124 requires nvidia-cusparse-cu12==12.3.1.170; platform_system == \"Linux\" and platform_machine == \"x86_64\", but you have nvidia-cusparse-cu12 12.5.1.3 which is incompatible.\n",
            "torch 2.6.0+cu124 requires nvidia-nvjitlink-cu12==12.4.127; platform_system == \"Linux\" and platform_machine == \"x86_64\", but you have nvidia-nvjitlink-cu12 12.5.82 which is incompatible.\n",
            "numba 0.60.0 requires numpy<2.1,>=1.22, but you have numpy 2.2.5 which is incompatible.\n",
            "tensorflow 2.18.0 requires numpy<2.1.0,>=1.26.0, but you have numpy 2.2.5 which is incompatible.\u001b[0m\u001b[31m\n",
            "\u001b[0mSuccessfully installed MarkupSafe-3.0.2 diskcache-5.6.3 jinja2-3.1.6 llama-cpp-python-0.3.9 numpy-2.2.5 typing-extensions-4.13.2\n"
          ]
        }
      ],
      "source": [
        "# As our cuda version is 12.4 so using whl > cu124 (inorder not to get version mismatch things by using cu118)\n",
        "# ref: https://pypi.org/project/llama-cpp-python/\n",
        "\n",
        "!pip install llama-cpp-python --upgrade --force-reinstall --extra-index-url https://abetlen.github.io/llama-cpp-python/whl/cu124\n",
        "\n",
        "# Alternatively use\n",
        "#!CMAKE_ARGS=\"-DLLAMA_CUBLAS=on\" pip install llama-cpp-python\n",
        "\n",
        "\n",
        "# Use this F16 support one for faster inference\n",
        "#!CMAKE_ARGS=\"-DLLAMA_CUBLAS=on -DLLAMA_CUDA_F16=on\" pip install llama-cpp-python\n",
        "\n",
        "#!CMAKE_ARGS=\"-DLLAMA_CUBLAS=ON\" pip install llama-cpp-python --upgrade --force-reinstall\n",
        "\n",
        "# !CMAKE_ARGS=\"-DLLAMA_CUBLAS=on\" FORCE_CMAKE=1 pip install llama-cpp-python==0.1.85 --force-reinstall --no-cache-dir -q"
      ]
    },
    {
      "cell_type": "code",
      "execution_count": 6,
      "metadata": {
        "colab": {
          "base_uri": "https://localhost:8080/"
        },
        "id": "_yOjRQb5AG0x",
        "outputId": "9cc654dc-aeb6-45b7-97ed-9796ce4984b7"
      },
      "outputs": [
        {
          "output_type": "stream",
          "name": "stdout",
          "text": [
            "Requirement already satisfied: huggingface_hub in /usr/local/lib/python3.11/dist-packages (0.30.2)\n",
            "Requirement already satisfied: filelock in /usr/local/lib/python3.11/dist-packages (from huggingface_hub) (3.18.0)\n",
            "Requirement already satisfied: fsspec>=2023.5.0 in /usr/local/lib/python3.11/dist-packages (from huggingface_hub) (2025.3.2)\n",
            "Requirement already satisfied: packaging>=20.9 in /usr/local/lib/python3.11/dist-packages (from huggingface_hub) (24.2)\n",
            "Requirement already satisfied: pyyaml>=5.1 in /usr/local/lib/python3.11/dist-packages (from huggingface_hub) (6.0.2)\n",
            "Requirement already satisfied: requests in /usr/local/lib/python3.11/dist-packages (from huggingface_hub) (2.32.3)\n",
            "Requirement already satisfied: tqdm>=4.42.1 in /usr/local/lib/python3.11/dist-packages (from huggingface_hub) (4.67.1)\n",
            "Requirement already satisfied: typing-extensions>=3.7.4.3 in /usr/local/lib/python3.11/dist-packages (from huggingface_hub) (4.13.2)\n",
            "Requirement already satisfied: charset-normalizer<4,>=2 in /usr/local/lib/python3.11/dist-packages (from requests->huggingface_hub) (3.4.1)\n",
            "Requirement already satisfied: idna<4,>=2.5 in /usr/local/lib/python3.11/dist-packages (from requests->huggingface_hub) (3.10)\n",
            "Requirement already satisfied: urllib3<3,>=1.21.1 in /usr/local/lib/python3.11/dist-packages (from requests->huggingface_hub) (2.4.0)\n",
            "Requirement already satisfied: certifi>=2017.4.17 in /usr/local/lib/python3.11/dist-packages (from requests->huggingface_hub) (2025.4.26)\n"
          ]
        }
      ],
      "source": [
        "!pip install huggingface_hub"
      ]
    },
    {
      "cell_type": "code",
      "source": [
        "!pip install langchain langchain_text_splitters pymupdf langchain-community tiktoken sentence-transformers"
      ],
      "metadata": {
        "colab": {
          "base_uri": "https://localhost:8080/"
        },
        "id": "9eyuDSDm12lC",
        "outputId": "ff73a70e-5434-4932-bfd8-1890933f48eb"
      },
      "execution_count": 68,
      "outputs": [
        {
          "output_type": "stream",
          "name": "stdout",
          "text": [
            "Requirement already satisfied: langchain in /usr/local/lib/python3.11/dist-packages (0.3.24)\n",
            "Requirement already satisfied: langchain_text_splitters in /usr/local/lib/python3.11/dist-packages (0.3.8)\n",
            "Requirement already satisfied: langchain-core<1.0.0,>=0.3.55 in /usr/local/lib/python3.11/dist-packages (from langchain) (0.3.56)\n",
            "Requirement already satisfied: langsmith<0.4,>=0.1.17 in /usr/local/lib/python3.11/dist-packages (from langchain) (0.3.39)\n",
            "Requirement already satisfied: pydantic<3.0.0,>=2.7.4 in /usr/local/lib/python3.11/dist-packages (from langchain) (2.11.4)\n",
            "Requirement already satisfied: SQLAlchemy<3,>=1.4 in /usr/local/lib/python3.11/dist-packages (from langchain) (2.0.40)\n",
            "Requirement already satisfied: requests<3,>=2 in /usr/local/lib/python3.11/dist-packages (from langchain) (2.32.3)\n",
            "Requirement already satisfied: PyYAML>=5.3 in /usr/local/lib/python3.11/dist-packages (from langchain) (6.0.2)\n",
            "Requirement already satisfied: tenacity!=8.4.0,<10.0.0,>=8.1.0 in /usr/local/lib/python3.11/dist-packages (from langchain-core<1.0.0,>=0.3.55->langchain) (9.1.2)\n",
            "Requirement already satisfied: jsonpatch<2.0,>=1.33 in /usr/local/lib/python3.11/dist-packages (from langchain-core<1.0.0,>=0.3.55->langchain) (1.33)\n",
            "Requirement already satisfied: packaging<25,>=23.2 in /usr/local/lib/python3.11/dist-packages (from langchain-core<1.0.0,>=0.3.55->langchain) (24.2)\n",
            "Requirement already satisfied: typing-extensions>=4.7 in /usr/local/lib/python3.11/dist-packages (from langchain-core<1.0.0,>=0.3.55->langchain) (4.13.2)\n",
            "Requirement already satisfied: httpx<1,>=0.23.0 in /usr/local/lib/python3.11/dist-packages (from langsmith<0.4,>=0.1.17->langchain) (0.28.1)\n",
            "Requirement already satisfied: orjson<4.0.0,>=3.9.14 in /usr/local/lib/python3.11/dist-packages (from langsmith<0.4,>=0.1.17->langchain) (3.10.18)\n",
            "Requirement already satisfied: requests-toolbelt<2.0.0,>=1.0.0 in /usr/local/lib/python3.11/dist-packages (from langsmith<0.4,>=0.1.17->langchain) (1.0.0)\n",
            "Requirement already satisfied: zstandard<0.24.0,>=0.23.0 in /usr/local/lib/python3.11/dist-packages (from langsmith<0.4,>=0.1.17->langchain) (0.23.0)\n",
            "Requirement already satisfied: annotated-types>=0.6.0 in /usr/local/lib/python3.11/dist-packages (from pydantic<3.0.0,>=2.7.4->langchain) (0.7.0)\n",
            "Requirement already satisfied: pydantic-core==2.33.2 in /usr/local/lib/python3.11/dist-packages (from pydantic<3.0.0,>=2.7.4->langchain) (2.33.2)\n",
            "Requirement already satisfied: typing-inspection>=0.4.0 in /usr/local/lib/python3.11/dist-packages (from pydantic<3.0.0,>=2.7.4->langchain) (0.4.0)\n",
            "Requirement already satisfied: charset-normalizer<4,>=2 in /usr/local/lib/python3.11/dist-packages (from requests<3,>=2->langchain) (3.4.1)\n",
            "Requirement already satisfied: idna<4,>=2.5 in /usr/local/lib/python3.11/dist-packages (from requests<3,>=2->langchain) (3.10)\n",
            "Requirement already satisfied: urllib3<3,>=1.21.1 in /usr/local/lib/python3.11/dist-packages (from requests<3,>=2->langchain) (2.4.0)\n",
            "Requirement already satisfied: certifi>=2017.4.17 in /usr/local/lib/python3.11/dist-packages (from requests<3,>=2->langchain) (2025.4.26)\n",
            "Requirement already satisfied: greenlet>=1 in /usr/local/lib/python3.11/dist-packages (from SQLAlchemy<3,>=1.4->langchain) (3.2.1)\n",
            "Requirement already satisfied: anyio in /usr/local/lib/python3.11/dist-packages (from httpx<1,>=0.23.0->langsmith<0.4,>=0.1.17->langchain) (4.9.0)\n",
            "Requirement already satisfied: httpcore==1.* in /usr/local/lib/python3.11/dist-packages (from httpx<1,>=0.23.0->langsmith<0.4,>=0.1.17->langchain) (1.0.9)\n",
            "Requirement already satisfied: h11>=0.16 in /usr/local/lib/python3.11/dist-packages (from httpcore==1.*->httpx<1,>=0.23.0->langsmith<0.4,>=0.1.17->langchain) (0.16.0)\n",
            "Requirement already satisfied: jsonpointer>=1.9 in /usr/local/lib/python3.11/dist-packages (from jsonpatch<2.0,>=1.33->langchain-core<1.0.0,>=0.3.55->langchain) (3.0.0)\n",
            "Requirement already satisfied: sniffio>=1.1 in /usr/local/lib/python3.11/dist-packages (from anyio->httpx<1,>=0.23.0->langsmith<0.4,>=0.1.17->langchain) (1.3.1)\n"
          ]
        }
      ]
    },
    {
      "cell_type": "code",
      "source": [
        "!pip install faiss-gpu"
      ],
      "metadata": {
        "id": "UjY6sxcBnFvZ"
      },
      "execution_count": null,
      "outputs": []
    },
    {
      "cell_type": "markdown",
      "metadata": {
        "id": "8O7iTiRrDuHB"
      },
      "source": [
        "#### Imports"
      ]
    },
    {
      "cell_type": "code",
      "source": [
        "import os\n",
        "import pickle\n",
        "import time"
      ],
      "metadata": {
        "id": "Go7JMvYVLj4d"
      },
      "execution_count": 4,
      "outputs": []
    },
    {
      "cell_type": "code",
      "execution_count": 3,
      "metadata": {
        "id": "Rem7wQUHDpsI",
        "colab": {
          "base_uri": "https://localhost:8080/",
          "height": 349
        },
        "outputId": "3bc35e7a-0ae5-4f8e-a47c-3d4d2a628920"
      },
      "outputs": [
        {
          "output_type": "error",
          "ename": "ModuleNotFoundError",
          "evalue": "No module named 'llama_cpp'",
          "traceback": [
            "\u001b[0;31m---------------------------------------------------------------------------\u001b[0m",
            "\u001b[0;31mModuleNotFoundError\u001b[0m                       Traceback (most recent call last)",
            "\u001b[0;32m<ipython-input-3-150ca34f6108>\u001b[0m in \u001b[0;36m<cell line: 0>\u001b[0;34m()\u001b[0m\n\u001b[1;32m      1\u001b[0m \u001b[0;32mimport\u001b[0m \u001b[0mos\u001b[0m\u001b[0;34m\u001b[0m\u001b[0;34m\u001b[0m\u001b[0m\n\u001b[1;32m      2\u001b[0m \u001b[0;32mfrom\u001b[0m \u001b[0mhuggingface_hub\u001b[0m \u001b[0;32mimport\u001b[0m \u001b[0mhf_hub_download\u001b[0m\u001b[0;34m,\u001b[0m \u001b[0mlist_repo_files\u001b[0m\u001b[0;34m\u001b[0m\u001b[0;34m\u001b[0m\u001b[0m\n\u001b[0;32m----> 3\u001b[0;31m \u001b[0;32mfrom\u001b[0m \u001b[0mllama_cpp\u001b[0m \u001b[0;32mimport\u001b[0m \u001b[0mLlama\u001b[0m\u001b[0;34m\u001b[0m\u001b[0;34m\u001b[0m\u001b[0m\n\u001b[0m",
            "\u001b[0;31mModuleNotFoundError\u001b[0m: No module named 'llama_cpp'",
            "",
            "\u001b[0;31m---------------------------------------------------------------------------\u001b[0;32m\nNOTE: If your import is failing due to a missing package, you can\nmanually install dependencies using either !pip or !apt.\n\nTo view examples of installing some common dependencies, click the\n\"Open Examples\" button below.\n\u001b[0;31m---------------------------------------------------------------------------\u001b[0m\n"
          ],
          "errorDetails": {
            "actions": [
              {
                "action": "open_url",
                "actionText": "Open Examples",
                "url": "/notebooks/snippets/importing_libraries.ipynb"
              }
            ]
          }
        }
      ],
      "source": [
        "from huggingface_hub import hf_hub_download, list_repo_files\n",
        "from llama_cpp import Llama"
      ]
    },
    {
      "cell_type": "code",
      "source": [
        "from langchain_community.document_loaders import PyMuPDFLoader\n",
        "import re"
      ],
      "metadata": {
        "colab": {
          "base_uri": "https://localhost:8080/",
          "height": 332
        },
        "id": "K3vwK5a74VCu",
        "outputId": "1331e08a-02a1-44cf-ab42-a338b74145be"
      },
      "execution_count": 5,
      "outputs": [
        {
          "output_type": "error",
          "ename": "ModuleNotFoundError",
          "evalue": "No module named 'langchain_community'",
          "traceback": [
            "\u001b[0;31m---------------------------------------------------------------------------\u001b[0m",
            "\u001b[0;31mModuleNotFoundError\u001b[0m                       Traceback (most recent call last)",
            "\u001b[0;32m<ipython-input-5-83f998cc60ba>\u001b[0m in \u001b[0;36m<cell line: 0>\u001b[0;34m()\u001b[0m\n\u001b[0;32m----> 1\u001b[0;31m \u001b[0;32mfrom\u001b[0m \u001b[0mlangchain_community\u001b[0m\u001b[0;34m.\u001b[0m\u001b[0mdocument_loaders\u001b[0m \u001b[0;32mimport\u001b[0m \u001b[0mPyMuPDFLoader\u001b[0m\u001b[0;34m\u001b[0m\u001b[0;34m\u001b[0m\u001b[0m\n\u001b[0m\u001b[1;32m      2\u001b[0m \u001b[0;32mimport\u001b[0m \u001b[0mre\u001b[0m\u001b[0;34m\u001b[0m\u001b[0;34m\u001b[0m\u001b[0m\n",
            "\u001b[0;31mModuleNotFoundError\u001b[0m: No module named 'langchain_community'",
            "",
            "\u001b[0;31m---------------------------------------------------------------------------\u001b[0;32m\nNOTE: If your import is failing due to a missing package, you can\nmanually install dependencies using either !pip or !apt.\n\nTo view examples of installing some common dependencies, click the\n\"Open Examples\" button below.\n\u001b[0;31m---------------------------------------------------------------------------\u001b[0m\n"
          ],
          "errorDetails": {
            "actions": [
              {
                "action": "open_url",
                "actionText": "Open Examples",
                "url": "/notebooks/snippets/importing_libraries.ipynb"
              }
            ]
          }
        }
      ]
    },
    {
      "cell_type": "code",
      "source": [
        "# Import libraries for text chunking\n",
        "from langchain_text_splitters import RecursiveCharacterTextSplitter\n",
        "from langchain_text_splitters import MarkdownHeaderTextSplitter"
      ],
      "metadata": {
        "id": "Dxx5LJzy2B_5"
      },
      "execution_count": 69,
      "outputs": []
    },
    {
      "cell_type": "code",
      "source": [
        "# Import libraries for embeddings\n",
        "from langchain_community.embeddings import HuggingFaceEmbeddings\n",
        "import torch\n",
        "import time"
      ],
      "metadata": {
        "id": "FD2QnCIlbSBN"
      },
      "execution_count": null,
      "outputs": []
    },
    {
      "cell_type": "code",
      "source": [
        "from typing import List"
      ],
      "metadata": {
        "id": "EAETSDyHndWz"
      },
      "execution_count": null,
      "outputs": []
    },
    {
      "cell_type": "markdown",
      "source": [
        "---"
      ],
      "metadata": {
        "id": "2L7mNTzfbTPV"
      }
    },
    {
      "cell_type": "code",
      "execution_count": 8,
      "metadata": {
        "colab": {
          "base_uri": "https://localhost:8080/"
        },
        "id": "SoFuppZ5FlPr",
        "outputId": "fdb613ed-761b-44aa-a709-fbbe00b2a297"
      },
      "outputs": [
        {
          "output_type": "stream",
          "name": "stderr",
          "text": [
            "/usr/local/lib/python3.11/dist-packages/huggingface_hub/utils/_auth.py:94: UserWarning: \n",
            "The secret `HF_TOKEN` does not exist in your Colab secrets.\n",
            "To authenticate with the Hugging Face Hub, create a token in your settings tab (https://huggingface.co/settings/tokens), set it as secret in your Google Colab and restart your session.\n",
            "You will be able to reuse this secret in all of your notebooks.\n",
            "Please note that authentication is recommended but still optional to access public models or datasets.\n",
            "  warnings.warn(\n"
          ]
        },
        {
          "output_type": "stream",
          "name": "stdout",
          "text": [
            "Available GGUF files:\n",
            "Phi-3-mini-4k-instruct-fp16.gguf\n",
            "Phi-3-mini-4k-instruct-q4.gguf\n"
          ]
        }
      ],
      "source": [
        "# List available files to get the correct filename\n",
        "files = list_repo_files(\"microsoft/Phi-3-mini-4k-instruct-GGUF\")\n",
        "gguf_files = [f for f in files if f.endswith('.gguf')]\n",
        "print(\"Available GGUF files:\")\n",
        "for f in gguf_files:\n",
        "    print(f)"
      ]
    },
    {
      "cell_type": "markdown",
      "metadata": {
        "id": "Td5RrOTNGET7"
      },
      "source": [
        "We will use q4 one\n",
        "> Phi-3-mini-4k-instruct-q4.gguf\n",
        "\n",
        "\n",
        "✅ **`phi-3-mini-4k-instruct-q4.gguf` is much faster**, especially on:\n",
        "\n",
        "* CPUs (with `llama.cpp`)\n",
        "* GPUs with limited memory (e.g., T4, RTX 3050, etc.)\n",
        "* Google Colab Free (RAM or VRAM limited)\n",
        "\n",
        "---\n",
        "\n",
        "### ✅ Recommendation\n",
        "\n",
        "For **RAG and general inference**, use:\n",
        "\n",
        "> **`phi-3-mini-4k-instruct-q4.gguf`**\n",
        "\n",
        "It's **fast**, **efficient**, and retains **most of the accuracy** — ideal for local or Colab usage.\n"
      ]
    },
    {
      "cell_type": "markdown",
      "metadata": {
        "id": "avtK9fnWGY6_"
      },
      "source": [
        "**Lets create directory for storing the model (above one)**"
      ]
    },
    {
      "cell_type": "code",
      "execution_count": null,
      "metadata": {
        "id": "ZbSsJwvzGUhR"
      },
      "outputs": [],
      "source": [
        "# Create directory for models\n",
        "!mkdir -p /content/drive/MyDrive/llm_models"
      ]
    },
    {
      "cell_type": "code",
      "execution_count": 9,
      "metadata": {
        "id": "oMZQPbo3EtYv"
      },
      "outputs": [],
      "source": [
        "llm_models_dir_path = '/content/drive/MyDrive/llm_models'"
      ]
    },
    {
      "cell_type": "code",
      "execution_count": 10,
      "metadata": {
        "id": "G7QvSguIOpWR"
      },
      "outputs": [],
      "source": [
        "phi3_mini_local_path = f\"{llm_models_dir_path}/Phi-3-mini-4k-instruct-q4.gguf\""
      ]
    },
    {
      "cell_type": "code",
      "execution_count": null,
      "metadata": {
        "colab": {
          "base_uri": "https://localhost:8080/",
          "height": 138,
          "referenced_widgets": [
            "43263c3124074821a9d93941579dbd19",
            "5154e8fc4b434839a74f47129da63468",
            "ff24f4756da44603929e968a022a1679",
            "12e1bfd15950484da7d4529a43ff6c95",
            "abff450e8429439583bee5ad5e216077",
            "3335076cfd934745964f8bb1c018cd5e",
            "48b339e7f5094589bf216c9379915968",
            "427b53994f7b462da7a3bba13b37fd75",
            "0cbe8d5f8d2845febd01b41c8dffb53a",
            "0f2250b5600e49d69b997ba14a8080ca",
            "e6d5b395a98c41f9b623ca570493ef5f"
          ]
        },
        "id": "fbp4F-4-D2oW",
        "outputId": "cfea7b3e-a7d8-4c5d-ec4f-f13ba3938fa6"
      },
      "outputs": [
        {
          "name": "stdout",
          "output_type": "stream",
          "text": [
            "Downloading pre-quantized model...\n"
          ]
        },
        {
          "name": "stderr",
          "output_type": "stream",
          "text": [
            "/usr/local/lib/python3.11/dist-packages/huggingface_hub/file_download.py:933: UserWarning: `local_dir_use_symlinks` parameter is deprecated and will be ignored. The process to download files to a local folder has been updated and do not rely on symlinks anymore. You only need to pass a destination folder as`local_dir`.\n",
            "For more details, check out https://huggingface.co/docs/huggingface_hub/main/en/guides/download#download-files-to-local-folder.\n",
            "  warnings.warn(\n"
          ]
        },
        {
          "data": {
            "application/vnd.jupyter.widget-view+json": {
              "model_id": "43263c3124074821a9d93941579dbd19",
              "version_major": 2,
              "version_minor": 0
            },
            "text/plain": [
              "Phi-3-mini-4k-instruct-q4.gguf:   0%|          | 0.00/2.39G [00:00<?, ?B/s]"
            ]
          },
          "metadata": {},
          "output_type": "display_data"
        }
      ],
      "source": [
        "\n",
        "# Download pre-quantized model if it doesn't exist\n",
        "if not os.path.exists(phi3_mini_local_path):\n",
        "    print(\"Downloading pre-quantized model...\")\n",
        "    hf_hub_download(\n",
        "        repo_id=\"microsoft/Phi-3-mini-4k-instruct-GGUF\",\n",
        "        filename=\"Phi-3-mini-4k-instruct-q4.gguf\",\n",
        "        local_dir=llm_models_dir_path,\n",
        "\n",
        "        # Colab doesn't always support symlinks well esp. when\n",
        "        # - Writing to mounted paths (e.g. Google Drive)\n",
        "        # Using False ensures the model files are copied instead of symlinked\n",
        "        local_dir_use_symlinks=False\n",
        "    )"
      ]
    },
    {
      "cell_type": "markdown",
      "metadata": {
        "id": "eUM9ixJnJ9OF"
      },
      "source": [
        "## Question Answering using LLM"
      ]
    },
    {
      "cell_type": "markdown",
      "metadata": {
        "id": "BkPNBt86Kw5A"
      },
      "source": [
        "REMEMBER:\n",
        "\n",
        "the structure `response[\"choices\"][0][\"text\"]` is consistent across models when using the llama-cpp-python library. This is because llama.cpp follows the OpenAI API response format.\n",
        "\n",
        "When you call the model with a prompt, it returns a dictionary with this structure:\n",
        "\n",
        "```\n",
        "{\n",
        "  \"id\": \"...\",\n",
        "  \"object\": \"text_completion\",\n",
        "  \"created\": timestamp,\n",
        "  \"model\": \"...\",\n",
        "  \"choices\": [\n",
        "    {\n",
        "      \"text\": \"The generated text response\",\n",
        "      \"index\": 0,\n",
        "      \"logprobs\": null,\n",
        "      \"finish_reason\": \"length\" or \"stop\"\n",
        "    }\n",
        "  ],\n",
        "  \"usage\": {\n",
        "    \"prompt_tokens\": number,\n",
        "    \"completion_tokens\": number,\n",
        "    \"total_tokens\": number\n",
        "  }\n",
        "}\n",
        "```\n",
        "\n",
        "So `response[\"choices\"][0][\"text\"]` will consistently give you the generated text output regardless of which model you're using with llama-cpp-python."
      ]
    },
    {
      "cell_type": "markdown",
      "metadata": {
        "id": "mO-2-jqmMb0x"
      },
      "source": [
        "\n",
        "**Phi 3 Mini 4K Info**\n",
        "\n",
        "Phi-3-mini-4k-instruct has a **total context window** of 4096 tokens. This means the combined length of:\n",
        "- Your input prompt\n",
        "- The model's generated response\n",
        "\n",
        "cannot exceed 4096 tokens.\n",
        "\n",
        "For example:\n",
        "- If your prompt is 1000 tokens\n",
        "- You could generate up to 3096 tokens in response\n",
        "\n",
        "The `max_tokens` parameter (set to 1024 in our code) limits how many tokens the model will generate in its response, regardless of how much room is left in the context window.\n",
        "\n",
        "So while the model *could* theoretically generate up to ~4000 tokens (if your prompt is very short), setting `max_tokens=1024` is a practical limit that:\n",
        "1. Keeps response times reasonable\n",
        "2. Provides sufficient detail for medical answers\n",
        "3. Prevents excessively long outputs\n",
        "\n",
        "You can adjust this value based on your needs, but 1024 is a good starting point.\n"
      ]
    },
    {
      "cell_type": "markdown",
      "metadata": {
        "id": "Cj7ZHrF5KiLt"
      },
      "source": [
        "#### Loading the model"
      ]
    },
    {
      "cell_type": "code",
      "execution_count": 11,
      "metadata": {
        "id": "RsRCFfcDJZo8"
      },
      "outputs": [],
      "source": [
        "# Function to load the model\n",
        "def load_model(model_path):\n",
        "    \"\"\"\n",
        "    Load the llm model (quantized) to be used eith llama.cpp\n",
        "    \"\"\"\n",
        "    print(f'checking model at {model_path} ...')\n",
        "    if not os.path.exists(model_path):\n",
        "        print(f\"Model not found at {model_path} Please check !.\")\n",
        "        return None\n",
        "\n",
        "    # Load the model with appropriate parameters\n",
        "    llm = Llama(\n",
        "        model_path=model_path,\n",
        "        n_ctx=4096,  # Context window size - use the full 4K that the model supports\n",
        "        n_gpu_layers=-1,  # Use all GPU layers\n",
        "        verbose=False\n",
        "    )\n",
        "\n",
        "    return llm"
      ]
    },
    {
      "cell_type": "code",
      "execution_count": 12,
      "metadata": {
        "id": "r6J1zksHLqK9"
      },
      "outputs": [],
      "source": [
        "# max tokens - 1024 is good starting point // should be sufficient for comprehensive answers\n",
        "# temperature - A temperature of 0.3-0.5 would be more appropriate for medical question answering\n",
        "# - for medical applications, leaning toward more deterministic outputs is generally preferred\n",
        "\n",
        "# Function to define model parameters\n",
        "def get_model_parameters(temperature=0.3, top_p=0.9, max_tokens=1024):\n",
        "    \"\"\"\n",
        "    Define parameters for model inference\n",
        "    \"\"\"\n",
        "    return {\n",
        "        \"temperature\": temperature,\n",
        "        \"top_p\": top_p,\n",
        "        \"max_tokens\": max_tokens,\n",
        "        # todo: decide\n",
        "        # \"top_k\": 40,\n",
        "    }"
      ]
    },
    {
      "cell_type": "code",
      "execution_count": 13,
      "metadata": {
        "colab": {
          "base_uri": "https://localhost:8080/"
        },
        "id": "4fZrEQJWO0Ez",
        "outputId": "c763457a-9bd6-4f57-c9ac-3892829e326f"
      },
      "outputs": [
        {
          "output_type": "stream",
          "name": "stdout",
          "text": [
            "model path:  /content/drive/MyDrive/llm_models/Phi-3-mini-4k-instruct-q4.gguf\n"
          ]
        }
      ],
      "source": [
        "# model path\n",
        "print('model path: ', phi3_mini_local_path)"
      ]
    },
    {
      "cell_type": "code",
      "execution_count": 14,
      "metadata": {
        "colab": {
          "base_uri": "https://localhost:8080/"
        },
        "id": "nm6daJ-_QKgF",
        "outputId": "522c6c13-7b84-48a9-f0b0-43d7b85be5d6"
      },
      "outputs": [
        {
          "output_type": "stream",
          "name": "stdout",
          "text": [
            "total 2337140\n",
            "-rw------- 1 root root 2393231072 May 10 12:57 Phi-3-mini-4k-instruct-q4.gguf\n"
          ]
        }
      ],
      "source": [
        "!ls -l \"/content/drive/MyDrive/llm_models\""
      ]
    },
    {
      "cell_type": "code",
      "execution_count": 15,
      "metadata": {
        "colab": {
          "base_uri": "https://localhost:8080/"
        },
        "id": "qv28fGAXPuOM",
        "outputId": "6257aced-1638-452f-b8f0-eb2e22c0ef95"
      },
      "outputs": [
        {
          "output_type": "stream",
          "name": "stdout",
          "text": [
            "True\n"
          ]
        }
      ],
      "source": [
        "print(os.path.exists(phi3_mini_local_path))"
      ]
    },
    {
      "cell_type": "code",
      "execution_count": 16,
      "metadata": {
        "colab": {
          "base_uri": "https://localhost:8080/"
        },
        "id": "wGcYDGyfNUb9",
        "outputId": "5fbc2c63-1e1f-4114-cc10-dbedf26bb663"
      },
      "outputs": [
        {
          "output_type": "stream",
          "name": "stdout",
          "text": [
            "checking model at /content/drive/MyDrive/llm_models/Phi-3-mini-4k-instruct-q4.gguf ...\n"
          ]
        }
      ],
      "source": [
        "# Test the model loading\n",
        "model = load_model(phi3_mini_local_path)"
      ]
    },
    {
      "cell_type": "markdown",
      "source": [
        "**Helper python function**"
      ],
      "metadata": {
        "id": "f9K-4EbEW8Bs"
      }
    },
    {
      "cell_type": "code",
      "source": [
        "def response(query, llm, max_tokens=128,temperature=0,top_p=0.95,top_k=50):\n",
        "    # * ! this method is provided by academic\n",
        "    model_output = llm(\n",
        "      prompt=query,\n",
        "      max_tokens=max_tokens,\n",
        "      temperature=temperature,\n",
        "      top_p=top_p,\n",
        "      top_k=top_k\n",
        "    )\n",
        "\n",
        "    return model_output['choices'][0]['text']\n",
        "\n",
        "# TODO: make this method to return (answer, response)\n",
        "def get_response(query, model, params=dict()):\n",
        "    \"\"\"\n",
        "    Get answer to query\n",
        "    \"\"\"\n",
        "    try:\n",
        "\n",
        "      prompt = 'N/A'\n",
        "\n",
        "      pt = params['prompt_template']\n",
        "      if pt:\n",
        "        prompt = pt(query)\n",
        "      else:\n",
        "        # Create the properly formatted prompt\n",
        "        prompt = create_prompt(query)\n",
        "\n",
        "      # Get response from model\n",
        "      response = model(\n",
        "          prompt,\n",
        "          # because 512 or 1024 was consuming considerable amount of time so going with what academic takes as default (ie 128)\n",
        "          max_tokens=params.get(\"max_tokens\", 128),\n",
        "          temperature=params.get(\"temperature\", 0.2),\n",
        "          top_p=params.get(\"top_p\", 0.9),\n",
        "          top_k=params.get(\"top_k\", 50)\n",
        "          #top_k=params.get(\"top_k\")\n",
        "      )\n",
        "      # TODO: comment below print statement (if not needed to trace !...)\n",
        "      # print('got response', response)\n",
        "      return response['choices'][0]['text']\n",
        "    except Exception as e:\n",
        "      print('Error whilst getting the response', e)\n",
        "      return 'Error'\n",
        "\n",
        "def create_prompt(query):\n",
        "    \"\"\"\n",
        "    Creates a properly formatted prompt for the Phi-3-mini-4k-instruct model\n",
        "\n",
        "    Args:\n",
        "        query: The user's question or query\n",
        "\n",
        "    Returns:\n",
        "        A formatted prompt string that follows the model's expected format\n",
        "    \"\"\"\n",
        "    # Format following Phi-3 chat template\n",
        "    formatted_prompt = f\"\"\"<|user|>\n",
        "{query}\n",
        "<|assistant|>\"\"\"\n",
        "\n",
        "    # ! NOTE: not using `pipeline()` or `pipe()`\n",
        "    # We're using llama.cpp via the llama-cpp-python binding rather than the Hugging Face Transformers library\n",
        "    # The Transformers pipeline would be useful if we were using the full HF implementation\n",
        "    # but for our quantized model with llama.cpp, the direct approach we're using is more appropriate\n",
        "\n",
        "    return formatted_prompt"
      ],
      "metadata": {
        "id": "l4N6W1RiW7V_"
      },
      "execution_count": 59,
      "outputs": []
    },
    {
      "cell_type": "code",
      "source": [
        "def display_response(question, answer, verbose=False, response=None):\n",
        "    \"\"\"\n",
        "    Display the question and model response in a clean, formatted way\n",
        "\n",
        "    Args:\n",
        "        question: The question asked to the model\n",
        "        answer: text response to question\n",
        "        verbose: Whether to show additional details like token counts\n",
        "        response: The full response object from the model\n",
        "    \"\"\"\n",
        "    # Print with clear formatting\n",
        "    print(\"\\n\" + \"=\"*80)\n",
        "    print(\"📋 QUESTION:\")\n",
        "    print(\"-\"*80)\n",
        "    print(question)\n",
        "    print(\"\\n\" + \"🩺 ANSWER:\")\n",
        "    print(\"-\"*80)\n",
        "    print(answer)\n",
        "    print(\"=\"*80)\n",
        "\n",
        "    # Optional verbose output with token information\n",
        "    if verbose and response:\n",
        "        usage = response.get(\"usage\", {})\n",
        "        prompt_tokens = usage.get(\"prompt_tokens\", \"N/A\")\n",
        "        completion_tokens = usage.get(\"completion_tokens\", \"N/A\")\n",
        "        total_tokens = usage.get(\"total_tokens\", \"N/A\")\n",
        "\n",
        "        print(\"\\n📊 STATS:\")\n",
        "        print(f\"  • Prompt tokens: {prompt_tokens}\")\n",
        "        print(f\"  • Completion tokens: {completion_tokens}\")\n",
        "        print(f\"  • Total tokens: {total_tokens}\")"
      ],
      "metadata": {
        "id": "ZUAuCKN8bm5l"
      },
      "execution_count": 40,
      "outputs": []
    },
    {
      "cell_type": "code",
      "source": [
        "if model:\n",
        "    print(\"Model loaded successfully!\")"
      ],
      "metadata": {
        "colab": {
          "base_uri": "https://localhost:8080/"
        },
        "id": "oh6ipD93YOq2",
        "outputId": "9f3305b1-6be6-430a-80b9-9d22ada76cef"
      },
      "execution_count": 23,
      "outputs": [
        {
          "output_type": "stream",
          "name": "stdout",
          "text": [
            "Model loaded successfully!\n"
          ]
        }
      ]
    },
    {
      "cell_type": "code",
      "source": [
        "# Test questions from the problem statement\n",
        "questions = [\n",
        "    \"What is the protocol for managing sepsis in a critical care unit?\",\n",
        "    \"What are the common symptoms of appendicitis, and can it be cured via medicine? If not, what surgical procedure should be followed to treat it?\",\n",
        "    \"What are the effective treatments or solutions for addressing sudden patchy hair loss, commonly seen as localized bald spots on the scalp, and what could be the possible causes behind it?\",\n",
        "    \"What treatments are recommended for a person who has sustained a physical injury to brain tissue, resulting in temporary or permanent impairment of brain function?\",\n",
        "    \"What are the necessary precautions and treatment steps for a person who has fractured their leg during a hiking trip, and what should be considered for their care and recovery?\"\n",
        "]"
      ],
      "metadata": {
        "id": "xgOyfMO9aMbL"
      },
      "execution_count": 24,
      "outputs": []
    },
    {
      "cell_type": "code",
      "source": [
        "llm = model"
      ],
      "metadata": {
        "id": "kAC0pskTamY_"
      },
      "execution_count": 25,
      "outputs": []
    },
    {
      "cell_type": "markdown",
      "source": [
        "### Query 1: What is the protocol for managing sepsis in a critical care unit?"
      ],
      "metadata": {
        "id": "43AP0Ux8aToa"
      }
    },
    {
      "cell_type": "code",
      "source": [
        "response0 = get_response(questions[0], llm)\n",
        "display_response(questions[0], response0)"
      ],
      "metadata": {
        "colab": {
          "base_uri": "https://localhost:8080/"
        },
        "id": "hpVZAO8IaU-2",
        "outputId": "f7497337-e335-4ceb-8a41-8442f983305b"
      },
      "execution_count": 46,
      "outputs": [
        {
          "output_type": "stream",
          "name": "stdout",
          "text": [
            "got respoonse {'id': 'cmpl-6ea31136-c85e-4ee5-91e1-1634efd91b43', 'object': 'text_completion', 'created': 1746886655, 'model': '/content/drive/MyDrive/llm_models/Phi-3-mini-4k-instruct-q4.gguf', 'choices': [{'text': \" The management of sepsis in a critical care unit follows the Surviving Sepsis Campaign (SSC) guidelines, which are periodically updated. The protocol generally includes the following steps:\\n\\n1. Early recognition and assessment: Identify patients with suspected sepsis, septic shock, or severe sepsis based on clinical signs, symptoms, and laboratory findings.\\n\\n2. Immediate resuscitation: Initiate aggressive fluid resuscitation with crystalloids, aiming for a 30 mL/kg bolus within the first 3 hours.\\n\\n3. Antibiotic therapy: Administer broad-spectrum antibiotics within one hour of recognition, and then de-escalate based on culture results and clinical response.\\n\\n4. Source control: Identify and treat the source of infection, such as draining abscesses, removing infected devices, or performing surgical interventions.\\n\\n5. Hemodynamic support: Optimize blood pressure and tissue perfusion using vasopressors (e.g., norepinephrine) if hypotension persists despite fluid resuscitation.\\n\\n6. Organ support: Provide supportive care for organ dysfunction, such as mechanical ventilation for respiratory failure, renal replacement therapy for acute kidney injury, or inotropic support for cardiac dysfunction.\\n\\n7. Monitoring and reassessment: Continuously monitor vital signs, laboratory parameters, and organ function, and adjust the treatment plan accordingly.\\n\\n8. Prevention and infection control: Implement strict infection control measures to prevent the spread of infection and reduce the risk of sepsis in vulnerable patients.\\n\\n9. Multidisciplinary care: Involve a multidisciplinary team, including critical care physicians, nurses, pharmacists, and infectious disease specialists, to provide comprehensive care for patients with sepsis.\\n\\n10. Education and training: Ensure that all healthcare providers in the critical care unit are familiar with the SSC guidelines and regularly participate in sepsis education and training programs.\\n\\nRemember that the management of sepsis may vary depending on the patient's condition, comorbitations\", 'index': 0, 'logprobs': None, 'finish_reason': 'length'}], 'usage': {'prompt_tokens': 20, 'completion_tokens': 512, 'total_tokens': 532}}\n",
            "\n",
            "================================================================================\n",
            "📋 QUESTION:\n",
            "--------------------------------------------------------------------------------\n",
            "What is the protocol for managing sepsis in a critical care unit?\n",
            "\n",
            "🩺 ANSWER:\n",
            "--------------------------------------------------------------------------------\n",
            " The management of sepsis in a critical care unit follows the Surviving Sepsis Campaign (SSC) guidelines, which are periodically updated. The protocol generally includes the following steps:\n",
            "\n",
            "1. Early recognition and assessment: Identify patients with suspected sepsis, septic shock, or severe sepsis based on clinical signs, symptoms, and laboratory findings.\n",
            "\n",
            "2. Immediate resuscitation: Initiate aggressive fluid resuscitation with crystalloids, aiming for a 30 mL/kg bolus within the first 3 hours.\n",
            "\n",
            "3. Antibiotic therapy: Administer broad-spectrum antibiotics within one hour of recognition, and then de-escalate based on culture results and clinical response.\n",
            "\n",
            "4. Source control: Identify and treat the source of infection, such as draining abscesses, removing infected devices, or performing surgical interventions.\n",
            "\n",
            "5. Hemodynamic support: Optimize blood pressure and tissue perfusion using vasopressors (e.g., norepinephrine) if hypotension persists despite fluid resuscitation.\n",
            "\n",
            "6. Organ support: Provide supportive care for organ dysfunction, such as mechanical ventilation for respiratory failure, renal replacement therapy for acute kidney injury, or inotropic support for cardiac dysfunction.\n",
            "\n",
            "7. Monitoring and reassessment: Continuously monitor vital signs, laboratory parameters, and organ function, and adjust the treatment plan accordingly.\n",
            "\n",
            "8. Prevention and infection control: Implement strict infection control measures to prevent the spread of infection and reduce the risk of sepsis in vulnerable patients.\n",
            "\n",
            "9. Multidisciplinary care: Involve a multidisciplinary team, including critical care physicians, nurses, pharmacists, and infectious disease specialists, to provide comprehensive care for patients with sepsis.\n",
            "\n",
            "10. Education and training: Ensure that all healthcare providers in the critical care unit are familiar with the SSC guidelines and regularly participate in sepsis education and training programs.\n",
            "\n",
            "Remember that the management of sepsis may vary depending on the patient's condition, comorbitations\n",
            "================================================================================\n"
          ]
        }
      ]
    },
    {
      "cell_type": "markdown",
      "source": [
        "### Query 2: What are the common symptoms for appendicitis, and can it be cured via medicine? If not, what surgical procedure should be followed to treat it?"
      ],
      "metadata": {
        "id": "7v9CjbZolt7G"
      }
    },
    {
      "cell_type": "code",
      "source": [
        "i = 1\n",
        "response1 = get_response(questions[i], llm)\n",
        "display_response(questions[i], response1)"
      ],
      "metadata": {
        "colab": {
          "base_uri": "https://localhost:8080/"
        },
        "id": "AhN2xMu5lPxm",
        "outputId": "5e3cbe14-449c-4220-a3d0-0b1ea3829bff"
      },
      "execution_count": 51,
      "outputs": [
        {
          "output_type": "stream",
          "name": "stdout",
          "text": [
            "got respoonse {'id': 'cmpl-439199b1-d299-4347-9701-6533f3d6a890', 'object': 'text_completion', 'created': 1746887080, 'model': '/content/drive/MyDrive/llm_models/Phi-3-mini-4k-instruct-q4.gguf', 'choices': [{'text': ' Appendicitis is an inflammation of the appendix, a small pouch-like organ located in the lower right abdomen. The common symptoms of appendicitis include:\\n\\n1. Abdominal pain: The pain usually starts around the navel and then moves to the lower right abdomen. The pain tends to worsen over time and may become severe.\\n2. Loss of appetite\\n3. Nausea and vomiting\\n4. Fever\\n5. Abdominal bloating\\n6. Constipation or diarrhea\\n\\nAppendicitis', 'index': 0, 'logprobs': None, 'finish_reason': 'length'}], 'usage': {'prompt_tokens': 38, 'completion_tokens': 128, 'total_tokens': 166}}\n",
            "\n",
            "================================================================================\n",
            "📋 QUESTION:\n",
            "--------------------------------------------------------------------------------\n",
            "What are the common symptoms of appendicitis, and can it be cured via medicine? If not, what surgical procedure should be followed to treat it?\n",
            "\n",
            "🩺 ANSWER:\n",
            "--------------------------------------------------------------------------------\n",
            " Appendicitis is an inflammation of the appendix, a small pouch-like organ located in the lower right abdomen. The common symptoms of appendicitis include:\n",
            "\n",
            "1. Abdominal pain: The pain usually starts around the navel and then moves to the lower right abdomen. The pain tends to worsen over time and may become severe.\n",
            "2. Loss of appetite\n",
            "3. Nausea and vomiting\n",
            "4. Fever\n",
            "5. Abdominal bloating\n",
            "6. Constipation or diarrhea\n",
            "\n",
            "Appendicitis\n",
            "================================================================================\n"
          ]
        }
      ]
    },
    {
      "cell_type": "markdown",
      "source": [
        "### Query 3: What are the effective treatments or solutions for addressing sudden patchy hair loss, commonly seen as localized bald spots on the scalp, and what could be the possible causes behind it?"
      ],
      "metadata": {
        "id": "xCJ4m2ZilwyN"
      }
    },
    {
      "cell_type": "code",
      "source": [
        "i = 2\n",
        "response2 = get_response(questions[i], llm)\n",
        "display_response(questions[i], response2)"
      ],
      "metadata": {
        "colab": {
          "base_uri": "https://localhost:8080/"
        },
        "id": "ak0yp_Y4lnCq",
        "outputId": "8837b9ae-bded-46fe-eeba-46f8e610930c"
      },
      "execution_count": 52,
      "outputs": [
        {
          "output_type": "stream",
          "name": "stdout",
          "text": [
            "got respoonse {'id': 'cmpl-6288221f-0323-458e-8d79-9a07e6aeca28', 'object': 'text_completion', 'created': 1746887208, 'model': '/content/drive/MyDrive/llm_models/Phi-3-mini-4k-instruct-q4.gguf', 'choices': [{'text': ' Sudden patchy hair loss, also known as alopecia areata, can be caused by various factors, including genetics, autoimmune disorders, and stress. Here are some effective treatments and solutions for addressing this condition:\\n\\n1. Medications:\\n   a. Corticosteroids: Injectable or topical corticosteroids can help reduce inflammation and promote hair regrowth.\\n   b. Minoxidil: This is a topical solution that can help stimulate hair growth.\\n   c. Immunomodulatory agents:', 'index': 0, 'logprobs': None, 'finish_reason': 'length'}], 'usage': {'prompt_tokens': 44, 'completion_tokens': 128, 'total_tokens': 172}}\n",
            "\n",
            "================================================================================\n",
            "📋 QUESTION:\n",
            "--------------------------------------------------------------------------------\n",
            "What are the effective treatments or solutions for addressing sudden patchy hair loss, commonly seen as localized bald spots on the scalp, and what could be the possible causes behind it?\n",
            "\n",
            "🩺 ANSWER:\n",
            "--------------------------------------------------------------------------------\n",
            " Sudden patchy hair loss, also known as alopecia areata, can be caused by various factors, including genetics, autoimmune disorders, and stress. Here are some effective treatments and solutions for addressing this condition:\n",
            "\n",
            "1. Medications:\n",
            "   a. Corticosteroids: Injectable or topical corticosteroids can help reduce inflammation and promote hair regrowth.\n",
            "   b. Minoxidil: This is a topical solution that can help stimulate hair growth.\n",
            "   c. Immunomodulatory agents:\n",
            "================================================================================\n"
          ]
        }
      ]
    },
    {
      "cell_type": "markdown",
      "source": [
        "### Query 4:  What treatments are recommended for a person who has sustained a physical injury to brain tissue, resulting in temporary or permanent impairment of brain function?"
      ],
      "metadata": {
        "id": "UhhrIT5ImLkK"
      }
    },
    {
      "cell_type": "code",
      "source": [
        "i = 3\n",
        "response3 = get_response(questions[i], llm)\n",
        "display_response(questions[i], response3)"
      ],
      "metadata": {
        "colab": {
          "base_uri": "https://localhost:8080/"
        },
        "id": "25DdgAIUmF8T",
        "outputId": "0c1dd00f-d7ba-4e26-bf6c-67cc55ef07aa"
      },
      "execution_count": 53,
      "outputs": [
        {
          "output_type": "stream",
          "name": "stdout",
          "text": [
            "got respoonse {'id': 'cmpl-f7b91398-3fc6-45ec-9c1d-fbe3f66fbd1d', 'object': 'text_completion', 'created': 1746887284, 'model': '/content/drive/MyDrive/llm_models/Phi-3-mini-4k-instruct-q4.gguf', 'choices': [{'text': \" I am not able to diagnose or provide specific treatment recommendations. It is crucial to consult with a qualified healthcare professional for an accurate diagnosis and appropriate treatment plan. However, I can provide you with some general information about potential treatments for brain injuries.\\n\\nTreatment for brain injuries depends on the severity and type of injury, as well as the individual's overall health. Some common approaches to treating brain injuries include:\\n\\n1. Medical management: This involves monitoring the patient's vital signs, managing pain, and addressing any immediate medical issues related to the injury\", 'index': 0, 'logprobs': None, 'finish_reason': 'length'}], 'usage': {'prompt_tokens': 36, 'completion_tokens': 128, 'total_tokens': 164}}\n",
            "\n",
            "================================================================================\n",
            "📋 QUESTION:\n",
            "--------------------------------------------------------------------------------\n",
            "What treatments are recommended for a person who has sustained a physical injury to brain tissue, resulting in temporary or permanent impairment of brain function?\n",
            "\n",
            "🩺 ANSWER:\n",
            "--------------------------------------------------------------------------------\n",
            " I am not able to diagnose or provide specific treatment recommendations. It is crucial to consult with a qualified healthcare professional for an accurate diagnosis and appropriate treatment plan. However, I can provide you with some general information about potential treatments for brain injuries.\n",
            "\n",
            "Treatment for brain injuries depends on the severity and type of injury, as well as the individual's overall health. Some common approaches to treating brain injuries include:\n",
            "\n",
            "1. Medical management: This involves monitoring the patient's vital signs, managing pain, and addressing any immediate medical issues related to the injury\n",
            "================================================================================\n"
          ]
        }
      ]
    },
    {
      "cell_type": "markdown",
      "source": [
        "### Query 5: What are the necessary precautions and treatment steps for a person who has fractured their leg during a hiking trip, and what should be considered for their care and recovery?"
      ],
      "metadata": {
        "id": "E7JuhIovmMPh"
      }
    },
    {
      "cell_type": "code",
      "source": [
        "i = 4\n",
        "response4 = get_response(questions[i], llm)\n",
        "display_response(questions[i], response4)"
      ],
      "metadata": {
        "colab": {
          "base_uri": "https://localhost:8080/"
        },
        "id": "JYNooJu_mmo-",
        "outputId": "ea94d2c8-8aa4-4c0c-eb7e-799856a48763"
      },
      "execution_count": 54,
      "outputs": [
        {
          "output_type": "stream",
          "name": "stdout",
          "text": [
            "got respoonse {'id': 'cmpl-284cbf05-074c-4dd5-bc93-5ee1e876e325', 'object': 'text_completion', 'created': 1746887421, 'model': '/content/drive/MyDrive/llm_models/Phi-3-mini-4k-instruct-q4.gguf', 'choices': [{'text': ' If a person has fractured their leg during a hiking trip, it is crucial to take the following precautions and treatment steps:\\n\\n1. Safety first:\\n   - Ensure the injured person is in a safe location, away from any potential hazards.\\n   - If possible, help the person to a stable, flat surface.\\n\\n2. Call for help:\\n   - Contact emergency services or a local rescue team to provide professional medical assistance.\\n   - If cell phone service is available, call for help immediately.\\n\\n3. Immobilize the leg', 'index': 0, 'logprobs': None, 'finish_reason': 'length'}], 'usage': {'prompt_tokens': 42, 'completion_tokens': 128, 'total_tokens': 170}}\n",
            "\n",
            "================================================================================\n",
            "📋 QUESTION:\n",
            "--------------------------------------------------------------------------------\n",
            "What are the necessary precautions and treatment steps for a person who has fractured their leg during a hiking trip, and what should be considered for their care and recovery?\n",
            "\n",
            "🩺 ANSWER:\n",
            "--------------------------------------------------------------------------------\n",
            " If a person has fractured their leg during a hiking trip, it is crucial to take the following precautions and treatment steps:\n",
            "\n",
            "1. Safety first:\n",
            "   - Ensure the injured person is in a safe location, away from any potential hazards.\n",
            "   - If possible, help the person to a stable, flat surface.\n",
            "\n",
            "2. Call for help:\n",
            "   - Contact emergency services or a local rescue team to provide professional medical assistance.\n",
            "   - If cell phone service is available, call for help immediately.\n",
            "\n",
            "3. Immobilize the leg\n",
            "================================================================================\n"
          ]
        }
      ]
    },
    {
      "cell_type": "markdown",
      "source": [],
      "metadata": {
        "id": "hIkJx1YJml1E"
      }
    },
    {
      "cell_type": "markdown",
      "source": [
        "## Question Answering using LLM with Prompt Engineering"
      ],
      "metadata": {
        "id": "srD7mZOIogto"
      }
    },
    {
      "cell_type": "code",
      "source": [
        "combinations = [\n",
        "    # Combination 1: Highly deterministic (factual focus)\n",
        "    {\n",
        "        \"name\": \"Highly Deterministic\",\n",
        "        \"temperature\": 0.1,\n",
        "        \"top_p\": 0.5,\n",
        "        \"max_tokens\": 150,\n",
        "        \"prompt_template\": lambda q: f\"<|user|>\\nAnswer this medical question with precise, factual information: {q}\\n<|assistant|>\"\n",
        "    },\n",
        "\n",
        "    # Combination 2: Balanced approach\n",
        "    {\n",
        "        \"name\": \"Balanced Approach\",\n",
        "        \"temperature\": 0.4,\n",
        "        \"top_p\": 0.8,\n",
        "        \"max_tokens\": 160,\n",
        "        \"prompt_template\": lambda q: f\"<|user|>\\nProvide a comprehensive medical answer to this question: {q}\\n<|assistant|>\"\n",
        "    },\n",
        "\n",
        "    # Combination 3: Step-by-step reasoning\n",
        "    {\n",
        "        \"name\": \"Step-by-Step Reasoning\",\n",
        "        \"temperature\": 0.3,\n",
        "        \"top_p\": 0.7,\n",
        "        \"max_tokens\": 150,\n",
        "        \"prompt_template\": lambda q: f\"<|user|>\\nAnswer this medical question step-by-step with clear reasoning: {q}\\n<|assistant|>\"\n",
        "    },\n",
        "\n",
        "    # Combination 4: Concise summary\n",
        "    {\n",
        "        \"name\": \"Concise Summary\",\n",
        "        \"temperature\": 0.2,\n",
        "        \"top_p\": 0.9,\n",
        "        \"max_tokens\": 132,\n",
        "        \"prompt_template\": lambda q: f\"<|user|>\\nProvide a brief, concise answer to this medical question: {q}\\n<|assistant|>\"\n",
        "    },\n",
        "\n",
        "    # Combination 5: Medical expert persona\n",
        "    {\n",
        "        \"name\": \"Medical Expert Persona\",\n",
        "        \"temperature\": 0.3,\n",
        "        \"top_p\": 0.85,\n",
        "        \"max_tokens\": 135,\n",
        "        \"prompt_template\": lambda q: f\"<|user|>\\nAs an experienced medical specialist, answer this question with your expert knowledge: {q}\\n<|assistant|>\"\n",
        "    }\n",
        "]"
      ],
      "metadata": {
        "id": "9rUlIQARon0j"
      },
      "execution_count": 61,
      "outputs": []
    },
    {
      "cell_type": "code",
      "source": [
        "def test_combinations(question_index):\n",
        "  query = questions[question_index]\n",
        "  for e in combinations:\n",
        "    ans = get_response(query, llm, params=e)\n",
        "    display_response(query, ans)\n",
        "    print('---\\n')"
      ],
      "metadata": {
        "id": "e2yA_n3EpQJu"
      },
      "execution_count": 62,
      "outputs": []
    },
    {
      "cell_type": "markdown",
      "source": [
        "### Query 1: What is the protocol for managing sepsis in a critical care unit?"
      ],
      "metadata": {
        "id": "1xsEI4bSolse"
      }
    },
    {
      "cell_type": "code",
      "source": [
        "test_combinations(0)"
      ],
      "metadata": {
        "colab": {
          "base_uri": "https://localhost:8080/"
        },
        "id": "Ra6zhkYvodau",
        "outputId": "5fe469b9-79c9-43d9-f49a-c56facfd3b68"
      },
      "execution_count": 63,
      "outputs": [
        {
          "output_type": "stream",
          "name": "stdout",
          "text": [
            "got respoonse {'id': 'cmpl-44cfbe41-f337-4ff0-be9f-603d6e1f902b', 'object': 'text_completion', 'created': 1746888719, 'model': '/content/drive/MyDrive/llm_models/Phi-3-mini-4k-instruct-q4.gguf', 'choices': [{'text': ' The protocol for managing sepsis in a critical care unit is based on the Surviving Sepsis Campaign (SSC) guidelines, which emphasize early recognition, prompt administration of antibiotics, and aggressive fluid resuscitation. The following steps are typically followed:\\n\\n1. Early recognition: Identify patients with suspected sepsis by assessing for signs and symptoms, such as fever, elevated heart rate, altered mental status, and hypotension.\\n\\n2. Immediate interventions:\\n   a. Administer broad-spectrum antibiotics within one hour of recognition.\\n   b. Initiate fluid resuscitation with', 'index': 0, 'logprobs': None, 'finish_reason': 'length'}], 'usage': {'prompt_tokens': 31, 'completion_tokens': 150, 'total_tokens': 181}}\n",
            "\n",
            "================================================================================\n",
            "📋 QUESTION:\n",
            "--------------------------------------------------------------------------------\n",
            "What is the protocol for managing sepsis in a critical care unit?\n",
            "\n",
            "🩺 ANSWER:\n",
            "--------------------------------------------------------------------------------\n",
            " The protocol for managing sepsis in a critical care unit is based on the Surviving Sepsis Campaign (SSC) guidelines, which emphasize early recognition, prompt administration of antibiotics, and aggressive fluid resuscitation. The following steps are typically followed:\n",
            "\n",
            "1. Early recognition: Identify patients with suspected sepsis by assessing for signs and symptoms, such as fever, elevated heart rate, altered mental status, and hypotension.\n",
            "\n",
            "2. Immediate interventions:\n",
            "   a. Administer broad-spectrum antibiotics within one hour of recognition.\n",
            "   b. Initiate fluid resuscitation with\n",
            "================================================================================\n",
            "---\n",
            "\n",
            "got respoonse {'id': 'cmpl-10808ac6-749c-4280-b90a-87dee37ab24a', 'object': 'text_completion', 'created': 1746888783, 'model': '/content/drive/MyDrive/llm_models/Phi-3-mini-4k-instruct-q4.gguf', 'choices': [{'text': \" Sepsis is a life-threatening condition that arises when the body's response to an infection injures its own tissues and organs. It is a medical emergency that requires immediate attention and intervention. The management of sepsis in a critical care unit follows a structured protocol, often based on the Surviving Sepsis Campaign (SSC) guidelines. Here is a comprehensive overview of the protocol:\\n\\n1. Early recognition and diagnosis:\\n   - Identify patients at risk of sepsis, such as those with suspected infections, immunocompromised individuals, or patients with comorbidities.\\n   - Recognize the signs and symptoms of sepsis\", 'index': 0, 'logprobs': None, 'finish_reason': 'length'}], 'usage': {'prompt_tokens': 31, 'completion_tokens': 160, 'total_tokens': 191}}\n",
            "\n",
            "================================================================================\n",
            "📋 QUESTION:\n",
            "--------------------------------------------------------------------------------\n",
            "What is the protocol for managing sepsis in a critical care unit?\n",
            "\n",
            "🩺 ANSWER:\n",
            "--------------------------------------------------------------------------------\n",
            " Sepsis is a life-threatening condition that arises when the body's response to an infection injures its own tissues and organs. It is a medical emergency that requires immediate attention and intervention. The management of sepsis in a critical care unit follows a structured protocol, often based on the Surviving Sepsis Campaign (SSC) guidelines. Here is a comprehensive overview of the protocol:\n",
            "\n",
            "1. Early recognition and diagnosis:\n",
            "   - Identify patients at risk of sepsis, such as those with suspected infections, immunocompromised individuals, or patients with comorbidities.\n",
            "   - Recognize the signs and symptoms of sepsis\n",
            "================================================================================\n",
            "---\n",
            "\n",
            "got respoonse {'id': 'cmpl-535497ef-3b65-422b-be5a-563ebb8544c0', 'object': 'text_completion', 'created': 1746888849, 'model': '/content/drive/MyDrive/llm_models/Phi-3-mini-4k-instruct-q4.gguf', 'choices': [{'text': ' Managing sepsis in a critical care unit involves a systematic approach that includes the following steps:\\n\\n1. Early recognition and diagnosis:\\n   a. Identify patients at risk: Patients with suspected infections, immunocompromised individuals, or those with comorbidities are at higher risk for sepsis.\\n   b. Recognize signs and symptoms: Look for systemic inflammatory response, hypotension, altered mental status, and signs of organ dysfunction.\\n   c. Obtain vital signs and perform initial assessment: Monitor vital signs, including heart rate, blood pressure, respiratory rate, and temperature.\\n\\n2.', 'index': 0, 'logprobs': None, 'finish_reason': 'length'}], 'usage': {'prompt_tokens': 33, 'completion_tokens': 150, 'total_tokens': 183}}\n",
            "\n",
            "================================================================================\n",
            "📋 QUESTION:\n",
            "--------------------------------------------------------------------------------\n",
            "What is the protocol for managing sepsis in a critical care unit?\n",
            "\n",
            "🩺 ANSWER:\n",
            "--------------------------------------------------------------------------------\n",
            " Managing sepsis in a critical care unit involves a systematic approach that includes the following steps:\n",
            "\n",
            "1. Early recognition and diagnosis:\n",
            "   a. Identify patients at risk: Patients with suspected infections, immunocompromised individuals, or those with comorbidities are at higher risk for sepsis.\n",
            "   b. Recognize signs and symptoms: Look for systemic inflammatory response, hypotension, altered mental status, and signs of organ dysfunction.\n",
            "   c. Obtain vital signs and perform initial assessment: Monitor vital signs, including heart rate, blood pressure, respiratory rate, and temperature.\n",
            "\n",
            "2.\n",
            "================================================================================\n",
            "---\n",
            "\n",
            "got respoonse {'id': 'cmpl-2bc1606d-4d6d-4e65-adcb-c169421491e0', 'object': 'text_completion', 'created': 1746888912, 'model': '/content/drive/MyDrive/llm_models/Phi-3-mini-4k-instruct-q4.gguf', 'choices': [{'text': ' The protocol for managing sepsis in a critical care unit typically follows the \"Sepsis Six\" or \"Surviving Sepsis Campaign\" guidelines, which include: 1) rapid identification and measurement of lactate levels, 2) immediate administration of broad-spectrum antibiotics, 3) fluid resuscitation with crystalloids, 4) vasopressors if hypotension persists, 5) source control of the infection, and 6) reassessment of hemodynamic status and organ function.', 'index': 0, 'logprobs': None, 'finish_reason': 'stop'}], 'usage': {'prompt_tokens': 33, 'completion_tokens': 122, 'total_tokens': 155}}\n",
            "\n",
            "================================================================================\n",
            "📋 QUESTION:\n",
            "--------------------------------------------------------------------------------\n",
            "What is the protocol for managing sepsis in a critical care unit?\n",
            "\n",
            "🩺 ANSWER:\n",
            "--------------------------------------------------------------------------------\n",
            " The protocol for managing sepsis in a critical care unit typically follows the \"Sepsis Six\" or \"Surviving Sepsis Campaign\" guidelines, which include: 1) rapid identification and measurement of lactate levels, 2) immediate administration of broad-spectrum antibiotics, 3) fluid resuscitation with crystalloids, 4) vasopressors if hypotension persists, 5) source control of the infection, and 6) reassessment of hemodynamic status and organ function.\n",
            "================================================================================\n",
            "---\n",
            "\n",
            "got respoonse {'id': 'cmpl-546886bf-400b-4312-93ce-7a397bc711ab', 'object': 'text_completion', 'created': 1746888964, 'model': '/content/drive/MyDrive/llm_models/Phi-3-mini-4k-instruct-q4.gguf', 'choices': [{'text': ' As an experienced medical specialist, I would outline the following protocol for managing sepsis in a critical care unit:\\n\\n1. Early recognition and diagnosis:\\n   - Monitor patients for signs and symptoms of sepsis, including fever, elevated heart rate, increased respiratory rate, and altered mental status.\\n   - Perform a thorough physical examination and obtain a detailed medical history.\\n   - Order blood cultures and other relevant laboratory tests to confirm the diagnosis.\\n\\n2. Immediate resuscitation:\\n   - Follow the Surviving Sepsis Campaign\\'s \"Seps', 'index': 0, 'logprobs': None, 'finish_reason': 'length'}], 'usage': {'prompt_tokens': 35, 'completion_tokens': 135, 'total_tokens': 170}}\n",
            "\n",
            "================================================================================\n",
            "📋 QUESTION:\n",
            "--------------------------------------------------------------------------------\n",
            "What is the protocol for managing sepsis in a critical care unit?\n",
            "\n",
            "🩺 ANSWER:\n",
            "--------------------------------------------------------------------------------\n",
            " As an experienced medical specialist, I would outline the following protocol for managing sepsis in a critical care unit:\n",
            "\n",
            "1. Early recognition and diagnosis:\n",
            "   - Monitor patients for signs and symptoms of sepsis, including fever, elevated heart rate, increased respiratory rate, and altered mental status.\n",
            "   - Perform a thorough physical examination and obtain a detailed medical history.\n",
            "   - Order blood cultures and other relevant laboratory tests to confirm the diagnosis.\n",
            "\n",
            "2. Immediate resuscitation:\n",
            "   - Follow the Surviving Sepsis Campaign's \"Seps\n",
            "================================================================================\n",
            "---\n",
            "\n"
          ]
        }
      ]
    },
    {
      "cell_type": "markdown",
      "source": [
        "### Query 2: What are the common symptoms for appendicitis, and can it be cured via medicine? If not, what surgical procedure should be followed to treat it?"
      ],
      "metadata": {
        "id": "jOWBfZt_0-jD"
      }
    },
    {
      "cell_type": "code",
      "source": [
        "test_combinations(1)"
      ],
      "metadata": {
        "colab": {
          "base_uri": "https://localhost:8080/"
        },
        "id": "D5x4mECCtDPo",
        "outputId": "a371c09c-4923-4f28-bbf6-5c3dfcfdeb98"
      },
      "execution_count": 64,
      "outputs": [
        {
          "output_type": "stream",
          "name": "stdout",
          "text": [
            "got respoonse {'id': 'cmpl-5029667d-19d0-42b1-9168-99689acf86d1', 'object': 'text_completion', 'created': 1746889097, 'model': '/content/drive/MyDrive/llm_models/Phi-3-mini-4k-instruct-q4.gguf', 'choices': [{'text': ' Appendicitis is an inflammation of the appendix, a small, finger-like pouch that projects from the large intestine. The common symptoms of appendicitis include:\\n\\n1. Abdominal pain: The pain usually starts around the navel and then moves to the lower right side of the abdomen. The pain typically worsens over time and becomes more severe.\\n\\n2. Loss of appetite\\n\\n3. Nausea and vomiting\\n\\n4. Low-grade fever\\n\\n5. Constipation or diarrhea\\n\\n6. Abdominal bloating\\n\\n7. Inability to pass gas\\n\\n8. Abdominal', 'index': 0, 'logprobs': None, 'finish_reason': 'length'}], 'usage': {'prompt_tokens': 49, 'completion_tokens': 150, 'total_tokens': 199}}\n",
            "\n",
            "================================================================================\n",
            "📋 QUESTION:\n",
            "--------------------------------------------------------------------------------\n",
            "What are the common symptoms of appendicitis, and can it be cured via medicine? If not, what surgical procedure should be followed to treat it?\n",
            "\n",
            "🩺 ANSWER:\n",
            "--------------------------------------------------------------------------------\n",
            " Appendicitis is an inflammation of the appendix, a small, finger-like pouch that projects from the large intestine. The common symptoms of appendicitis include:\n",
            "\n",
            "1. Abdominal pain: The pain usually starts around the navel and then moves to the lower right side of the abdomen. The pain typically worsens over time and becomes more severe.\n",
            "\n",
            "2. Loss of appetite\n",
            "\n",
            "3. Nausea and vomiting\n",
            "\n",
            "4. Low-grade fever\n",
            "\n",
            "5. Constipation or diarrhea\n",
            "\n",
            "6. Abdominal bloating\n",
            "\n",
            "7. Inability to pass gas\n",
            "\n",
            "8. Abdominal\n",
            "================================================================================\n",
            "---\n",
            "\n",
            "got respoonse {'id': 'cmpl-acadbbed-cea0-4452-9ac8-414187460173', 'object': 'text_completion', 'created': 1746889164, 'model': '/content/drive/MyDrive/llm_models/Phi-3-mini-4k-instruct-q4.gguf', 'choices': [{'text': ' Appendicitis is an inflammation of the appendix, a small, finger-like pouch that projects from the large intestine on the lower right side of the abdomen. The common symptoms of appendicitis include:\\n\\n1. Abdominal pain: The most common symptom is pain in the lower right side of the abdomen. The pain usually starts near the navel and then moves to the lower right abdomen. The pain may become more severe over time and may be accompanied by a low-grade fever.\\n\\n2. Loss of appetite: Patients may experience a decreased desire to eat.\\n\\n3. Nausea and vomiting: These symptoms may occur as the inflammation w', 'index': 0, 'logprobs': None, 'finish_reason': 'length'}], 'usage': {'prompt_tokens': 49, 'completion_tokens': 160, 'total_tokens': 209}}\n",
            "\n",
            "================================================================================\n",
            "📋 QUESTION:\n",
            "--------------------------------------------------------------------------------\n",
            "What are the common symptoms of appendicitis, and can it be cured via medicine? If not, what surgical procedure should be followed to treat it?\n",
            "\n",
            "🩺 ANSWER:\n",
            "--------------------------------------------------------------------------------\n",
            " Appendicitis is an inflammation of the appendix, a small, finger-like pouch that projects from the large intestine on the lower right side of the abdomen. The common symptoms of appendicitis include:\n",
            "\n",
            "1. Abdominal pain: The most common symptom is pain in the lower right side of the abdomen. The pain usually starts near the navel and then moves to the lower right abdomen. The pain may become more severe over time and may be accompanied by a low-grade fever.\n",
            "\n",
            "2. Loss of appetite: Patients may experience a decreased desire to eat.\n",
            "\n",
            "3. Nausea and vomiting: These symptoms may occur as the inflammation w\n",
            "================================================================================\n",
            "---\n",
            "\n",
            "got respoonse {'id': 'cmpl-a6a1dad1-638a-40f4-8db7-f1cef78c2efa', 'object': 'text_completion', 'created': 1746889234, 'model': '/content/drive/MyDrive/llm_models/Phi-3-mini-4k-instruct-q4.gguf', 'choices': [{'text': ' Step 1: Identify the medical condition\\nThe medical condition in question is appendicitis, which is an inflammation of the appendix, a small pouch-like organ attached to the large intestine.\\n\\nStep 2: List common symptoms of appendicitis\\nThe common symptoms of appendicitis include:\\n1. Abdominal pain: The pain usually starts around the navel and then moves to the lower right side of the abdomen.\\n2. Loss of appetite\\n3. Nausea and vomiting\\n4. Low-grade fever\\n5. Constipation or diarrhea\\n6. Abdominal bloating\\n7. In', 'index': 0, 'logprobs': None, 'finish_reason': 'length'}], 'usage': {'prompt_tokens': 51, 'completion_tokens': 150, 'total_tokens': 201}}\n",
            "\n",
            "================================================================================\n",
            "📋 QUESTION:\n",
            "--------------------------------------------------------------------------------\n",
            "What are the common symptoms of appendicitis, and can it be cured via medicine? If not, what surgical procedure should be followed to treat it?\n",
            "\n",
            "🩺 ANSWER:\n",
            "--------------------------------------------------------------------------------\n",
            " Step 1: Identify the medical condition\n",
            "The medical condition in question is appendicitis, which is an inflammation of the appendix, a small pouch-like organ attached to the large intestine.\n",
            "\n",
            "Step 2: List common symptoms of appendicitis\n",
            "The common symptoms of appendicitis include:\n",
            "1. Abdominal pain: The pain usually starts around the navel and then moves to the lower right side of the abdomen.\n",
            "2. Loss of appetite\n",
            "3. Nausea and vomiting\n",
            "4. Low-grade fever\n",
            "5. Constipation or diarrhea\n",
            "6. Abdominal bloating\n",
            "7. In\n",
            "================================================================================\n",
            "---\n",
            "\n",
            "got respoonse {'id': 'cmpl-c2f95ea2-59aa-4837-a7de-d0654397af42', 'object': 'text_completion', 'created': 1746889300, 'model': '/content/drive/MyDrive/llm_models/Phi-3-mini-4k-instruct-q4.gguf', 'choices': [{'text': ' Common symptoms of appendicitis include abdominal pain, particularly in the lower right quadrant, nausea, vomiting, and fever. Appendicitis cannot be cured with medication; it typically requires surgical removal of the appendix, known as an appendectomy.', 'index': 0, 'logprobs': None, 'finish_reason': 'stop'}], 'usage': {'prompt_tokens': 51, 'completion_tokens': 62, 'total_tokens': 113}}\n",
            "\n",
            "================================================================================\n",
            "📋 QUESTION:\n",
            "--------------------------------------------------------------------------------\n",
            "What are the common symptoms of appendicitis, and can it be cured via medicine? If not, what surgical procedure should be followed to treat it?\n",
            "\n",
            "🩺 ANSWER:\n",
            "--------------------------------------------------------------------------------\n",
            " Common symptoms of appendicitis include abdominal pain, particularly in the lower right quadrant, nausea, vomiting, and fever. Appendicitis cannot be cured with medication; it typically requires surgical removal of the appendix, known as an appendectomy.\n",
            "================================================================================\n",
            "---\n",
            "\n",
            "got respoonse {'id': 'cmpl-cc9ca201-1a96-47fe-be15-ec7277d1701d', 'object': 'text_completion', 'created': 1746889332, 'model': '/content/drive/MyDrive/llm_models/Phi-3-mini-4k-instruct-q4.gguf', 'choices': [{'text': ' As an experienced medical specialist, I can tell you that appendicitis is an inflammation of the appendix, a small pouch connected to the large intestine. The common symptoms of appendicitis include:\\n\\n1. Abdominal pain: The initial pain usually starts around the navel and then shifts to the lower right side of the abdomen. The pain often intensifies over time and becomes more severe.\\n2. Loss of appetite\\n3. Nausea and vomiting\\n4. Low-grade fever\\n5. Abdominal bloating\\n6. Constipation or diarr', 'index': 0, 'logprobs': None, 'finish_reason': 'length'}], 'usage': {'prompt_tokens': 53, 'completion_tokens': 135, 'total_tokens': 188}}\n",
            "\n",
            "================================================================================\n",
            "📋 QUESTION:\n",
            "--------------------------------------------------------------------------------\n",
            "What are the common symptoms of appendicitis, and can it be cured via medicine? If not, what surgical procedure should be followed to treat it?\n",
            "\n",
            "🩺 ANSWER:\n",
            "--------------------------------------------------------------------------------\n",
            " As an experienced medical specialist, I can tell you that appendicitis is an inflammation of the appendix, a small pouch connected to the large intestine. The common symptoms of appendicitis include:\n",
            "\n",
            "1. Abdominal pain: The initial pain usually starts around the navel and then shifts to the lower right side of the abdomen. The pain often intensifies over time and becomes more severe.\n",
            "2. Loss of appetite\n",
            "3. Nausea and vomiting\n",
            "4. Low-grade fever\n",
            "5. Abdominal bloating\n",
            "6. Constipation or diarr\n",
            "================================================================================\n",
            "---\n",
            "\n"
          ]
        }
      ]
    },
    {
      "cell_type": "markdown",
      "source": [
        "### Query 3: What are the effective treatments or solutions for addressing sudden patchy hair loss, commonly seen as localized bald spots on the scalp, and what could be the possible causes behind it?"
      ],
      "metadata": {
        "id": "S8l35iMU1EQH"
      }
    },
    {
      "cell_type": "code",
      "source": [
        "test_combinations(2)"
      ],
      "metadata": {
        "colab": {
          "base_uri": "https://localhost:8080/"
        },
        "id": "UE85dpkEuXSZ",
        "outputId": "11f0c4f6-bb0b-449b-e42b-184da5e8cfee"
      },
      "execution_count": 65,
      "outputs": [
        {
          "output_type": "stream",
          "name": "stdout",
          "text": [
            "got respoonse {'id': 'cmpl-ddf847b5-d0b0-458c-aea1-cc3e3692feeb', 'object': 'text_completion', 'created': 1746889448, 'model': '/content/drive/MyDrive/llm_models/Phi-3-mini-4k-instruct-q4.gguf', 'choices': [{'text': \" Sudden patchy hair loss, also known as alopecia areata, is an autoimmune condition where the body's immune system mistakenly attacks hair follicles, leading to localized bald spots on the scalp. The exact cause of alopecia areata is unknown, but it is believed to involve a combination of genetic and environmental factors.\\n\\nPossible causes of alopecia areata include:\\n\\n1. Genetic predisposition: A family history of alopecia areata or other autoimmune diseases may increase the risk of developing the condition.\\n2. Immune system dysfunction: An overactive immune system may attack hair follicles, causing\", 'index': 0, 'logprobs': None, 'finish_reason': 'length'}], 'usage': {'prompt_tokens': 55, 'completion_tokens': 150, 'total_tokens': 205}}\n",
            "\n",
            "================================================================================\n",
            "📋 QUESTION:\n",
            "--------------------------------------------------------------------------------\n",
            "What are the effective treatments or solutions for addressing sudden patchy hair loss, commonly seen as localized bald spots on the scalp, and what could be the possible causes behind it?\n",
            "\n",
            "🩺 ANSWER:\n",
            "--------------------------------------------------------------------------------\n",
            " Sudden patchy hair loss, also known as alopecia areata, is an autoimmune condition where the body's immune system mistakenly attacks hair follicles, leading to localized bald spots on the scalp. The exact cause of alopecia areata is unknown, but it is believed to involve a combination of genetic and environmental factors.\n",
            "\n",
            "Possible causes of alopecia areata include:\n",
            "\n",
            "1. Genetic predisposition: A family history of alopecia areata or other autoimmune diseases may increase the risk of developing the condition.\n",
            "2. Immune system dysfunction: An overactive immune system may attack hair follicles, causing\n",
            "================================================================================\n",
            "---\n",
            "\n",
            "got respoonse {'id': 'cmpl-92d20713-bd95-4162-b89f-7b80e58e919f', 'object': 'text_completion', 'created': 1746889515, 'model': '/content/drive/MyDrive/llm_models/Phi-3-mini-4k-instruct-q4.gguf', 'choices': [{'text': ' Sudden patchy hair loss, also known as alopecia areata, is an autoimmune condition that results in the loss of hair in small, round, and well-defined patches. The exact cause of alopecia areata is not fully understood, but it is believed to be a combination of genetic and environmental factors. Here are some possible causes:\\n\\n1. Genetic predisposition: Individuals with a family history of alopecia areata or other autoimmune diseases have a higher risk of developing the condition.\\n\\n2. Immune system dysfunction: The immune system may mistakenly attack hair follicles, leading to hair loss.\\n\\n3. Hormonal imbalances: Changes in h', 'index': 0, 'logprobs': None, 'finish_reason': 'length'}], 'usage': {'prompt_tokens': 55, 'completion_tokens': 160, 'total_tokens': 215}}\n",
            "\n",
            "================================================================================\n",
            "📋 QUESTION:\n",
            "--------------------------------------------------------------------------------\n",
            "What are the effective treatments or solutions for addressing sudden patchy hair loss, commonly seen as localized bald spots on the scalp, and what could be the possible causes behind it?\n",
            "\n",
            "🩺 ANSWER:\n",
            "--------------------------------------------------------------------------------\n",
            " Sudden patchy hair loss, also known as alopecia areata, is an autoimmune condition that results in the loss of hair in small, round, and well-defined patches. The exact cause of alopecia areata is not fully understood, but it is believed to be a combination of genetic and environmental factors. Here are some possible causes:\n",
            "\n",
            "1. Genetic predisposition: Individuals with a family history of alopecia areata or other autoimmune diseases have a higher risk of developing the condition.\n",
            "\n",
            "2. Immune system dysfunction: The immune system may mistakenly attack hair follicles, leading to hair loss.\n",
            "\n",
            "3. Hormonal imbalances: Changes in h\n",
            "================================================================================\n",
            "---\n",
            "\n",
            "got respoonse {'id': 'cmpl-9cf71636-034d-46f7-a7dd-eb9eb196af79', 'object': 'text_completion', 'created': 1746889586, 'model': '/content/drive/MyDrive/llm_models/Phi-3-mini-4k-instruct-q4.gguf', 'choices': [{'text': \" Step 1: Identify possible causes of sudden patchy hair loss\\n\\nSudden patchy hair loss, also known as alopecia areata, can be caused by various factors. Some possible causes include:\\n\\n1. Autoimmune disorders: The body's immune system mistakenly attacks hair follicles, leading to hair loss.\\n2. Genetic predisposition: A family history of alopecia areata or other autoimmune disorders can increase the risk of developing the condition.\\n3. Stress: Emotional or physical stress can trigger or exacerbate hair loss.\\n4. Hormonal changes: Hormonal fluctuations, such as those\", 'index': 0, 'logprobs': None, 'finish_reason': 'length'}], 'usage': {'prompt_tokens': 57, 'completion_tokens': 150, 'total_tokens': 207}}\n",
            "\n",
            "================================================================================\n",
            "📋 QUESTION:\n",
            "--------------------------------------------------------------------------------\n",
            "What are the effective treatments or solutions for addressing sudden patchy hair loss, commonly seen as localized bald spots on the scalp, and what could be the possible causes behind it?\n",
            "\n",
            "🩺 ANSWER:\n",
            "--------------------------------------------------------------------------------\n",
            " Step 1: Identify possible causes of sudden patchy hair loss\n",
            "\n",
            "Sudden patchy hair loss, also known as alopecia areata, can be caused by various factors. Some possible causes include:\n",
            "\n",
            "1. Autoimmune disorders: The body's immune system mistakenly attacks hair follicles, leading to hair loss.\n",
            "2. Genetic predisposition: A family history of alopecia areata or other autoimmune disorders can increase the risk of developing the condition.\n",
            "3. Stress: Emotional or physical stress can trigger or exacerbate hair loss.\n",
            "4. Hormonal changes: Hormonal fluctuations, such as those\n",
            "================================================================================\n",
            "---\n",
            "\n",
            "got respoonse {'id': 'cmpl-6f2c441c-dfbd-4636-b5c5-c62df2b08daa', 'object': 'text_completion', 'created': 1746889653, 'model': '/content/drive/MyDrive/llm_models/Phi-3-mini-4k-instruct-q4.gguf', 'choices': [{'text': \" Effective treatments for sudden patchy hair loss, also known as alopecia areata, include corticosteroid injections, topical minoxidil, and immunotherapy. Possible causes include autoimmune disorders, genetic predisposition, and stress. It's essential to consult a dermatologist for a proper diagnosis and personalized treatment plan.\", 'index': 0, 'logprobs': None, 'finish_reason': 'stop'}], 'usage': {'prompt_tokens': 57, 'completion_tokens': 81, 'total_tokens': 138}}\n",
            "\n",
            "================================================================================\n",
            "📋 QUESTION:\n",
            "--------------------------------------------------------------------------------\n",
            "What are the effective treatments or solutions for addressing sudden patchy hair loss, commonly seen as localized bald spots on the scalp, and what could be the possible causes behind it?\n",
            "\n",
            "🩺 ANSWER:\n",
            "--------------------------------------------------------------------------------\n",
            " Effective treatments for sudden patchy hair loss, also known as alopecia areata, include corticosteroid injections, topical minoxidil, and immunotherapy. Possible causes include autoimmune disorders, genetic predisposition, and stress. It's essential to consult a dermatologist for a proper diagnosis and personalized treatment plan.\n",
            "================================================================================\n",
            "---\n",
            "\n",
            "got respoonse {'id': 'cmpl-85a57a5b-7694-4925-9ca3-fead910690c2', 'object': 'text_completion', 'created': 1746889693, 'model': '/content/drive/MyDrive/llm_models/Phi-3-mini-4k-instruct-q4.gguf', 'choices': [{'text': ' As an experienced medical specialist, I can provide you with information on the effective treatments and potential causes of sudden patchy hair loss, also known as alopecia areata.\\n\\nPossible causes of alopecia areata include:\\n\\n1. Autoimmune disorders: In some cases, the immune system mistakenly attacks hair follicles, leading to hair loss.\\n2. Genetic predisposition: A family history of alopecia areata or other autoimmune disorders can increase the risk of developing the condition.\\n3. Stress: Emotional or physical stress can trigger or worsen alope', 'index': 0, 'logprobs': None, 'finish_reason': 'length'}], 'usage': {'prompt_tokens': 59, 'completion_tokens': 135, 'total_tokens': 194}}\n",
            "\n",
            "================================================================================\n",
            "📋 QUESTION:\n",
            "--------------------------------------------------------------------------------\n",
            "What are the effective treatments or solutions for addressing sudden patchy hair loss, commonly seen as localized bald spots on the scalp, and what could be the possible causes behind it?\n",
            "\n",
            "🩺 ANSWER:\n",
            "--------------------------------------------------------------------------------\n",
            " As an experienced medical specialist, I can provide you with information on the effective treatments and potential causes of sudden patchy hair loss, also known as alopecia areata.\n",
            "\n",
            "Possible causes of alopecia areata include:\n",
            "\n",
            "1. Autoimmune disorders: In some cases, the immune system mistakenly attacks hair follicles, leading to hair loss.\n",
            "2. Genetic predisposition: A family history of alopecia areata or other autoimmune disorders can increase the risk of developing the condition.\n",
            "3. Stress: Emotional or physical stress can trigger or worsen alope\n",
            "================================================================================\n",
            "---\n",
            "\n"
          ]
        }
      ]
    },
    {
      "cell_type": "markdown",
      "source": [
        "### Query 4:  What treatments are recommended for a person who has sustained a physical injury to brain tissue, resulting in temporary or permanent impairment of brain function?"
      ],
      "metadata": {
        "id": "4RAXAXDj1H1S"
      }
    },
    {
      "cell_type": "code",
      "source": [
        "test_combinations(3)"
      ],
      "metadata": {
        "colab": {
          "base_uri": "https://localhost:8080/"
        },
        "id": "IWUxLJypvnSo",
        "outputId": "a027315b-aecd-47d6-8c07-82cabdb80a6b"
      },
      "execution_count": 66,
      "outputs": [
        {
          "output_type": "stream",
          "name": "stdout",
          "text": [
            "got respoonse {'id': 'cmpl-656cabf2-698f-4380-a037-2bcf4436b795', 'object': 'text_completion', 'created': 1746889776, 'model': '/content/drive/MyDrive/llm_models/Phi-3-mini-4k-instruct-q4.gguf', 'choices': [{'text': \" Treatment for a physical injury to brain tissue, resulting in temporary or permanent impairment of brain function, depends on the severity and location of the injury, as well as the specific symptoms and complications experienced by the individual. Here are some general treatment options:\\n\\n1. Immediate medical attention: In the case of a severe head injury, immediate medical attention is crucial. This may involve stabilizing the patient's vital signs, performing a thorough neurological examination, and obtaining imaging studies such as a CT scan or MRI to assess the extent of the injury.\\n\\n2. Medications: Various medications may be prescribed to manage symptoms and complications associated with\", 'index': 0, 'logprobs': None, 'finish_reason': 'length'}], 'usage': {'prompt_tokens': 47, 'completion_tokens': 150, 'total_tokens': 197}}\n",
            "\n",
            "================================================================================\n",
            "📋 QUESTION:\n",
            "--------------------------------------------------------------------------------\n",
            "What treatments are recommended for a person who has sustained a physical injury to brain tissue, resulting in temporary or permanent impairment of brain function?\n",
            "\n",
            "🩺 ANSWER:\n",
            "--------------------------------------------------------------------------------\n",
            " Treatment for a physical injury to brain tissue, resulting in temporary or permanent impairment of brain function, depends on the severity and location of the injury, as well as the specific symptoms and complications experienced by the individual. Here are some general treatment options:\n",
            "\n",
            "1. Immediate medical attention: In the case of a severe head injury, immediate medical attention is crucial. This may involve stabilizing the patient's vital signs, performing a thorough neurological examination, and obtaining imaging studies such as a CT scan or MRI to assess the extent of the injury.\n",
            "\n",
            "2. Medications: Various medications may be prescribed to manage symptoms and complications associated with\n",
            "================================================================================\n",
            "---\n",
            "\n",
            "got respoonse {'id': 'cmpl-268adf66-3474-4d5b-bfda-a4bf0aa0e2c8', 'object': 'text_completion', 'created': 1746889841, 'model': '/content/drive/MyDrive/llm_models/Phi-3-mini-4k-instruct-q4.gguf', 'choices': [{'text': \" Treatment for a person who has sustained a physical injury to brain tissue, resulting in temporary or permanent impairment of brain function, depends on the severity and location of the injury. Here are some common treatments:\\n\\n1. Emergency care: Immediate medical attention is crucial for any brain injury. This may involve stabilizing the patient's vital signs, preventing further injury, and minimizing swelling.\\n\\n2. Medications: Depending on the injury, medications may be used to reduce swelling, control pain, prevent seizures, or manage other symptoms.\\n\\n3. Surgery: In some cases, surgery may be necessary to remove blood clots, repair damaged blood vessels, or relieve pressure\", 'index': 0, 'logprobs': None, 'finish_reason': 'length'}], 'usage': {'prompt_tokens': 47, 'completion_tokens': 160, 'total_tokens': 207}}\n",
            "\n",
            "================================================================================\n",
            "📋 QUESTION:\n",
            "--------------------------------------------------------------------------------\n",
            "What treatments are recommended for a person who has sustained a physical injury to brain tissue, resulting in temporary or permanent impairment of brain function?\n",
            "\n",
            "🩺 ANSWER:\n",
            "--------------------------------------------------------------------------------\n",
            " Treatment for a person who has sustained a physical injury to brain tissue, resulting in temporary or permanent impairment of brain function, depends on the severity and location of the injury. Here are some common treatments:\n",
            "\n",
            "1. Emergency care: Immediate medical attention is crucial for any brain injury. This may involve stabilizing the patient's vital signs, preventing further injury, and minimizing swelling.\n",
            "\n",
            "2. Medications: Depending on the injury, medications may be used to reduce swelling, control pain, prevent seizures, or manage other symptoms.\n",
            "\n",
            "3. Surgery: In some cases, surgery may be necessary to remove blood clots, repair damaged blood vessels, or relieve pressure\n",
            "================================================================================\n",
            "---\n",
            "\n",
            "got respoonse {'id': 'cmpl-3616c024-f84c-42d4-a919-e4c9f3e1452c', 'object': 'text_completion', 'created': 1746889909, 'model': '/content/drive/MyDrive/llm_models/Phi-3-mini-4k-instruct-q4.gguf', 'choices': [{'text': ' Step 1: Assess the severity of the injury\\nThe first step in treating a physical injury to brain tissue is to assess the severity of the injury. This can be done through imaging techniques such as CT scans or MRI scans, which can help determine the extent of the damage and whether it is temporary or permanent.\\n\\nStep 2: Stabilize the patient\\nIf the injury is severe, the patient may need to be stabilized in a hospital setting. This may involve monitoring vital signs, controlling pain, and preventing further injury.\\n\\nStep 3: Determine the appropriate treatment plan\\nBased on the severity and type of injury, the treatment plan may include', 'index': 0, 'logprobs': None, 'finish_reason': 'length'}], 'usage': {'prompt_tokens': 49, 'completion_tokens': 150, 'total_tokens': 199}}\n",
            "\n",
            "================================================================================\n",
            "📋 QUESTION:\n",
            "--------------------------------------------------------------------------------\n",
            "What treatments are recommended for a person who has sustained a physical injury to brain tissue, resulting in temporary or permanent impairment of brain function?\n",
            "\n",
            "🩺 ANSWER:\n",
            "--------------------------------------------------------------------------------\n",
            " Step 1: Assess the severity of the injury\n",
            "The first step in treating a physical injury to brain tissue is to assess the severity of the injury. This can be done through imaging techniques such as CT scans or MRI scans, which can help determine the extent of the damage and whether it is temporary or permanent.\n",
            "\n",
            "Step 2: Stabilize the patient\n",
            "If the injury is severe, the patient may need to be stabilized in a hospital setting. This may involve monitoring vital signs, controlling pain, and preventing further injury.\n",
            "\n",
            "Step 3: Determine the appropriate treatment plan\n",
            "Based on the severity and type of injury, the treatment plan may include\n",
            "================================================================================\n",
            "---\n",
            "\n",
            "got respoonse {'id': 'cmpl-4d0dafdc-b069-4930-ac4a-1b10a45a1cfa', 'object': 'text_completion', 'created': 1746889974, 'model': '/content/drive/MyDrive/llm_models/Phi-3-mini-4k-instruct-q4.gguf', 'choices': [{'text': ' For physical injury to brain tissue, treatments may include immediate medical intervention to stabilize the patient, surgery to remove any hematomas or contusions, medication for pain and inflammation, rehabilitation therapies (physical, occupational, speech), and psychological support. The specific treatment plan depends on the severity and nature of the injury.', 'index': 0, 'logprobs': None, 'finish_reason': 'stop'}], 'usage': {'prompt_tokens': 49, 'completion_tokens': 80, 'total_tokens': 129}}\n",
            "\n",
            "================================================================================\n",
            "📋 QUESTION:\n",
            "--------------------------------------------------------------------------------\n",
            "What treatments are recommended for a person who has sustained a physical injury to brain tissue, resulting in temporary or permanent impairment of brain function?\n",
            "\n",
            "🩺 ANSWER:\n",
            "--------------------------------------------------------------------------------\n",
            " For physical injury to brain tissue, treatments may include immediate medical intervention to stabilize the patient, surgery to remove any hematomas or contusions, medication for pain and inflammation, rehabilitation therapies (physical, occupational, speech), and psychological support. The specific treatment plan depends on the severity and nature of the injury.\n",
            "================================================================================\n",
            "---\n",
            "\n",
            "got respoonse {'id': 'cmpl-0a1ea615-ea69-40da-a9d9-9f436d37117b', 'object': 'text_completion', 'created': 1746890011, 'model': '/content/drive/MyDrive/llm_models/Phi-3-mini-4k-instruct-q4.gguf', 'choices': [{'text': \" As an experienced medical specialist, I can provide you with an overview of the potential treatments for a person who has sustained a brain injury. The specific treatment plan will depend on the severity and type of injury, as well as the individual's overall health and medical history. Here are some common treatment options:\\n\\n1. Acute management: In the immediate aftermath of a brain injury, the primary goal is to stabilize the patient and prevent further damage. This may involve:\\n   - Ensuring adequate oxygenation and blood flow to the brain\\n   - Maintaining blood pressure within a normal range\\n   - Mon\", 'index': 0, 'logprobs': None, 'finish_reason': 'length'}], 'usage': {'prompt_tokens': 51, 'completion_tokens': 135, 'total_tokens': 186}}\n",
            "\n",
            "================================================================================\n",
            "📋 QUESTION:\n",
            "--------------------------------------------------------------------------------\n",
            "What treatments are recommended for a person who has sustained a physical injury to brain tissue, resulting in temporary or permanent impairment of brain function?\n",
            "\n",
            "🩺 ANSWER:\n",
            "--------------------------------------------------------------------------------\n",
            " As an experienced medical specialist, I can provide you with an overview of the potential treatments for a person who has sustained a brain injury. The specific treatment plan will depend on the severity and type of injury, as well as the individual's overall health and medical history. Here are some common treatment options:\n",
            "\n",
            "1. Acute management: In the immediate aftermath of a brain injury, the primary goal is to stabilize the patient and prevent further damage. This may involve:\n",
            "   - Ensuring adequate oxygenation and blood flow to the brain\n",
            "   - Maintaining blood pressure within a normal range\n",
            "   - Mon\n",
            "================================================================================\n",
            "---\n",
            "\n"
          ]
        }
      ]
    },
    {
      "cell_type": "markdown",
      "source": [
        "### Query 5: What are the necessary precautions and treatment steps for a person who has fractured their leg during a hiking trip, and what should be considered for their care and recovery?"
      ],
      "metadata": {
        "id": "pucFOUJ_1LYA"
      }
    },
    {
      "cell_type": "code",
      "source": [
        "test_combinations(4)"
      ],
      "metadata": {
        "colab": {
          "base_uri": "https://localhost:8080/"
        },
        "id": "iVgx3bZIyTin",
        "outputId": "fda1dcfa-711d-4afa-fc0b-a493e392232b"
      },
      "execution_count": 67,
      "outputs": [
        {
          "output_type": "stream",
          "name": "stdout",
          "text": [
            "got respoonse {'id': 'cmpl-89eecbf0-a8dc-49d0-861e-892e738e0ec0', 'object': 'text_completion', 'created': 1746890563, 'model': '/content/drive/MyDrive/llm_models/Phi-3-mini-4k-instruct-q4.gguf', 'choices': [{'text': ' Precautions and treatment steps for a person who has fractured their leg during a hiking trip include:\\n\\n1. Immobilization: Immobilize the injured leg using a splint or a makeshift support to prevent further injury.\\n\\n2. Pain management: Administer over-the-counter pain medications, such as acetaminophen or ibuprofen, to alleviate pain and reduce inflammation.\\n\\n3. Elevation: Elevate the injured leg above heart level to reduce swelling and improve blood circulation.\\n\\n4. Ice application: Apply ice packs wrapped in a cloth to the injured area for 15-', 'index': 0, 'logprobs': None, 'finish_reason': 'length'}], 'usage': {'prompt_tokens': 53, 'completion_tokens': 150, 'total_tokens': 203}}\n",
            "\n",
            "================================================================================\n",
            "📋 QUESTION:\n",
            "--------------------------------------------------------------------------------\n",
            "What are the necessary precautions and treatment steps for a person who has fractured their leg during a hiking trip, and what should be considered for their care and recovery?\n",
            "\n",
            "🩺 ANSWER:\n",
            "--------------------------------------------------------------------------------\n",
            " Precautions and treatment steps for a person who has fractured their leg during a hiking trip include:\n",
            "\n",
            "1. Immobilization: Immobilize the injured leg using a splint or a makeshift support to prevent further injury.\n",
            "\n",
            "2. Pain management: Administer over-the-counter pain medications, such as acetaminophen or ibuprofen, to alleviate pain and reduce inflammation.\n",
            "\n",
            "3. Elevation: Elevate the injured leg above heart level to reduce swelling and improve blood circulation.\n",
            "\n",
            "4. Ice application: Apply ice packs wrapped in a cloth to the injured area for 15-\n",
            "================================================================================\n",
            "---\n",
            "\n",
            "got respoonse {'id': 'cmpl-c87bc517-d41e-4d23-bf57-9cbaa2db07bd', 'object': 'text_completion', 'created': 1746890630, 'model': '/content/drive/MyDrive/llm_models/Phi-3-mini-4k-instruct-q4.gguf', 'choices': [{'text': ' Fracturing a leg during a hiking trip can be a painful and challenging experience. Here are the necessary precautions and treatment steps for a person who has fractured their leg, along with considerations for their care and recovery:\\n\\n1. Immediate actions:\\n   a. Keep the injured person calm and reassure them.\\n   b. Do not attempt to realign the bone or move the injured leg.\\n   c. Immobilize the injured leg using a splint or any rigid material to prevent further damage.\\n   d. Elevate the injured leg above heart level to reduce swelling.\\n   e. Apply a cold compress or ice pack wrapped in a cloth to the injured area to minimize', 'index': 0, 'logprobs': None, 'finish_reason': 'length'}], 'usage': {'prompt_tokens': 53, 'completion_tokens': 160, 'total_tokens': 213}}\n",
            "\n",
            "================================================================================\n",
            "📋 QUESTION:\n",
            "--------------------------------------------------------------------------------\n",
            "What are the necessary precautions and treatment steps for a person who has fractured their leg during a hiking trip, and what should be considered for their care and recovery?\n",
            "\n",
            "🩺 ANSWER:\n",
            "--------------------------------------------------------------------------------\n",
            " Fracturing a leg during a hiking trip can be a painful and challenging experience. Here are the necessary precautions and treatment steps for a person who has fractured their leg, along with considerations for their care and recovery:\n",
            "\n",
            "1. Immediate actions:\n",
            "   a. Keep the injured person calm and reassure them.\n",
            "   b. Do not attempt to realign the bone or move the injured leg.\n",
            "   c. Immobilize the injured leg using a splint or any rigid material to prevent further damage.\n",
            "   d. Elevate the injured leg above heart level to reduce swelling.\n",
            "   e. Apply a cold compress or ice pack wrapped in a cloth to the injured area to minimize\n",
            "================================================================================\n",
            "---\n",
            "\n",
            "got respoonse {'id': 'cmpl-18dc3bc2-2678-48a5-8ac6-b71bdaf21acd', 'object': 'text_completion', 'created': 1746890701, 'model': '/content/drive/MyDrive/llm_models/Phi-3-mini-4k-instruct-q4.gguf', 'choices': [{'text': \" Step 1: Ensure Safety and Immobilize the Fracture\\n\\nThe first priority is to ensure the person's safety and prevent further injury. If the person is conscious and able to move, instruct them to sit or lie down in a comfortable position. Avoid moving the fractured leg as much as possible to prevent exacerbating the injury.\\n\\nStep 2: Call for Emergency Assistance\\n\\nContact emergency services (e.g., 911) to request immediate medical attention. Provide the rescuers with the location, the nature of the injury, and any relevant medical history.\\n\\nStep 3: Minimize Pain and Swelling\\n\\n\", 'index': 0, 'logprobs': None, 'finish_reason': 'length'}], 'usage': {'prompt_tokens': 55, 'completion_tokens': 150, 'total_tokens': 205}}\n",
            "\n",
            "================================================================================\n",
            "📋 QUESTION:\n",
            "--------------------------------------------------------------------------------\n",
            "What are the necessary precautions and treatment steps for a person who has fractured their leg during a hiking trip, and what should be considered for their care and recovery?\n",
            "\n",
            "🩺 ANSWER:\n",
            "--------------------------------------------------------------------------------\n",
            " Step 1: Ensure Safety and Immobilize the Fracture\n",
            "\n",
            "The first priority is to ensure the person's safety and prevent further injury. If the person is conscious and able to move, instruct them to sit or lie down in a comfortable position. Avoid moving the fractured leg as much as possible to prevent exacerbating the injury.\n",
            "\n",
            "Step 2: Call for Emergency Assistance\n",
            "\n",
            "Contact emergency services (e.g., 911) to request immediate medical attention. Provide the rescuers with the location, the nature of the injury, and any relevant medical history.\n",
            "\n",
            "Step 3: Minimize Pain and Swelling\n",
            "\n",
            "\n",
            "================================================================================\n",
            "---\n",
            "\n",
            "got respoonse {'id': 'cmpl-02a3c754-7b29-4081-baf9-a44d475df5d7', 'object': 'text_completion', 'created': 1746890767, 'model': '/content/drive/MyDrive/llm_models/Phi-3-mini-4k-instruct-q4.gguf', 'choices': [{'text': ' For a person with a fractured leg during a hiking trip, the following precautions and treatment steps should be taken:\\n\\n1. Immobilize the leg: Use a splint or any rigid object to immobilize the injured leg, avoiding further damage.\\n\\n2. Seek medical help: Contact emergency services or arrange for evacuation to a medical facility, as hiking trails are often remote and far from medical assistance.\\n\\n3. Pain management: Administer over-the-counter pain medication, such as acetaminophen or ibuprofen', 'index': 0, 'logprobs': None, 'finish_reason': 'length'}], 'usage': {'prompt_tokens': 55, 'completion_tokens': 132, 'total_tokens': 187}}\n",
            "\n",
            "================================================================================\n",
            "📋 QUESTION:\n",
            "--------------------------------------------------------------------------------\n",
            "What are the necessary precautions and treatment steps for a person who has fractured their leg during a hiking trip, and what should be considered for their care and recovery?\n",
            "\n",
            "🩺 ANSWER:\n",
            "--------------------------------------------------------------------------------\n",
            " For a person with a fractured leg during a hiking trip, the following precautions and treatment steps should be taken:\n",
            "\n",
            "1. Immobilize the leg: Use a splint or any rigid object to immobilize the injured leg, avoiding further damage.\n",
            "\n",
            "2. Seek medical help: Contact emergency services or arrange for evacuation to a medical facility, as hiking trails are often remote and far from medical assistance.\n",
            "\n",
            "3. Pain management: Administer over-the-counter pain medication, such as acetaminophen or ibuprofen\n",
            "================================================================================\n",
            "---\n",
            "\n",
            "got respoonse {'id': 'cmpl-92c35348-b1b2-48c5-81f9-c7abd95b2a92', 'object': 'text_completion', 'created': 1746890828, 'model': '/content/drive/MyDrive/llm_models/Phi-3-mini-4k-instruct-q4.gguf', 'choices': [{'text': ' As an experienced medical specialist, I would recommend the following precautions and treatment steps for a person who has fractured their leg during a hiking trip:\\n\\n1. Immobilization: Immobilize the affected leg using a splint or a makeshift support to prevent further injury. Avoid moving the leg unnecessarily.\\n\\n2. Pain management: Administer over-the-counter pain medications, such as acetaminophen or ibuprofen, to manage pain and reduce inflammation.\\n\\n3. Elevation: Elevate the injured leg above heart level to reduce sw', 'index': 0, 'logprobs': None, 'finish_reason': 'length'}], 'usage': {'prompt_tokens': 57, 'completion_tokens': 135, 'total_tokens': 192}}\n",
            "\n",
            "================================================================================\n",
            "📋 QUESTION:\n",
            "--------------------------------------------------------------------------------\n",
            "What are the necessary precautions and treatment steps for a person who has fractured their leg during a hiking trip, and what should be considered for their care and recovery?\n",
            "\n",
            "🩺 ANSWER:\n",
            "--------------------------------------------------------------------------------\n",
            " As an experienced medical specialist, I would recommend the following precautions and treatment steps for a person who has fractured their leg during a hiking trip:\n",
            "\n",
            "1. Immobilization: Immobilize the affected leg using a splint or a makeshift support to prevent further injury. Avoid moving the leg unnecessarily.\n",
            "\n",
            "2. Pain management: Administer over-the-counter pain medications, such as acetaminophen or ibuprofen, to manage pain and reduce inflammation.\n",
            "\n",
            "3. Elevation: Elevate the injured leg above heart level to reduce sw\n",
            "================================================================================\n",
            "---\n",
            "\n"
          ]
        }
      ]
    },
    {
      "cell_type": "markdown",
      "source": [
        "### 👀 **Summary**\n",
        "\n"
      ],
      "metadata": {
        "id": "KS5E6RquunBu"
      }
    },
    {
      "cell_type": "markdown",
      "source": [
        "We utilized the Phi-3 Mini 4K model in a GPU-accelerated Colab setup to generate medical responses for a predefined set of five clinically relevant questions.\n",
        "\n",
        "itial tests showed that a max_tokens setting of 512 to 1024 consumes too much time So we resort back to defualt provided by academia (ie 128)\n",
        "\n",
        "1. **Response Time vs. Token Length**: Generating 512 tokens took significantly longer than shorter outputs. There appears to be a near-linear relationship between max_tokens and generation time.\n",
        "\n",
        "2. **Temperature Impact**: Lower temperature settings (0.1-0.2) produced more consistent, factual responses appropriate for medical information, while slightly higher values (0.3-0.4) introduced minor variations in phrasing without compromising accuracy.\n",
        "\n",
        "3. **Prompt Engineering Effects**: Directive prompts (e.g., \"Answer step-by-step\") noticeably influenced the structure of responses, with the model generally following the requested format.\n",
        "\n",
        "4. **Default Value Optimization**: We settled on max_tokens=128 as the default for a balance between response quality and generation speed. This value provided sufficient detail for most medical questions while maintaining reasonable response times.\n",
        "\n",
        "5. **Optimal Balance**: The \"Balanced Approach\" (temp=0.3, top_p=0.8) provided a good compromise between factual accuracy and natural language flow for medical questions.\n",
        "\n",
        "6. **Conciseness vs. Completeness**: While the \"Concise Summary\" setting generated faster responses, some medical questions benefited from the additional context provided by longer outputs.\n",
        "\n",
        "7. **Persona Framing**: The \"Medical Expert Persona\" prompt appeared to elicit slightly more technical terminology and structured explanations compared to neutral prompts.\n",
        "\n",
        "8. **Token Efficiency**: Lower temperatures generally resulted in more information-dense responses, requiring fewer tokens to convey key medical information.\n",
        "\n",
        "9. **Model Limitations**: For complex medical protocols (like sepsis management), even the longest responses (384 tokens) sometimes felt truncated before completing the full explanation.\n",
        "\n",
        "***The responses generated by Phi-3 Mini were surprisingly coherent and informative, even without retrieval augmentation — suggesting that smaller models can still be leveraged for meaningful domain-specific reasoning when guided with the right prompt and sampling parameters.***"
      ],
      "metadata": {
        "id": "LX-26Sku1ax2"
      }
    },
    {
      "cell_type": "markdown",
      "source": [
        "## Data Preparation for RAG"
      ],
      "metadata": {
        "id": "xsGV2u5B1Vir"
      }
    },
    {
      "cell_type": "markdown",
      "source": [
        "**Prep**"
      ],
      "metadata": {
        "id": "DT6zlPyY2NNx"
      }
    },
    {
      "cell_type": "code",
      "source": [
        "!pwd"
      ],
      "metadata": {
        "colab": {
          "base_uri": "https://localhost:8080/"
        },
        "id": "6TU1z_nN2YCo",
        "outputId": "7314e472-2ee5-4c2c-b125-bee72e55df78"
      },
      "execution_count": 72,
      "outputs": [
        {
          "output_type": "stream",
          "name": "stdout",
          "text": [
            "/content/drive/MyDrive/Colab Notebooks/medical_assist_academicway\n"
          ]
        }
      ]
    },
    {
      "cell_type": "code",
      "source": [
        "!ls -la"
      ],
      "metadata": {
        "colab": {
          "base_uri": "https://localhost:8080/"
        },
        "id": "8_Vt8mMa3j0K",
        "outputId": "a95e6a90-7a35-4a2d-e983-4c5641044822"
      },
      "execution_count": 70,
      "outputs": [
        {
          "output_type": "stream",
          "name": "stdout",
          "text": [
            "total 19851\n",
            "-rw------- 1 root root    46430 May 10 08:48 medical_assistant_learner_notebook.ipynb\n",
            "-rw------- 1 root root 20150490 May  9 11:14 medical_diagnosis_manual.pdf\n",
            "-rw------- 1 root root   125661 May 10 15:39 notebook1.ipynb\n",
            "drwx------ 2 root root     4096 May 10 11:56 phi3_models\n"
          ]
        }
      ]
    },
    {
      "cell_type": "code",
      "source": [
        "pdf_path = 'medical_diagnosis_manual.pdf'"
      ],
      "metadata": {
        "id": "Ks-aV04U2SRz"
      },
      "execution_count": 71,
      "outputs": []
    },
    {
      "cell_type": "code",
      "source": [
        "# helper Functions\n",
        "\n",
        "def load_pdf_with_langchain(pdf_path):\n",
        "    \"\"\"\n",
        "    Load a PDF file using LangChain's PyMuPDFLoader\n",
        "\n",
        "    Args:\n",
        "        pdf_path: Path to the PDF file\n",
        "\n",
        "    Returns:\n",
        "        List of document objects with page content and metadata\n",
        "    \"\"\"\n",
        "    if not os.path.exists(pdf_path):\n",
        "        raise FileNotFoundError(f\"PDF file not found at {pdf_path}\")\n",
        "\n",
        "    # Load the PDF using PyMuPDFLoader\n",
        "    loader = PyMuPDFLoader(pdf_path)\n",
        "    documents = loader.load()\n",
        "\n",
        "    print(f\"PDF loaded successfully: {os.path.basename(pdf_path)}\")\n",
        "    print(f\"Total pages: {len(documents)}\")\n",
        "\n",
        "    return documents\n",
        "\n",
        "def preview_documents(documents, num_pages=2):\n",
        "    \"\"\"\n",
        "    Preview the first few pages of loaded documents\n",
        "    \"\"\"\n",
        "    total_pages = len(documents)\n",
        "\n",
        "    print(f\"Previewing first {min(num_pages, total_pages)} pages:\")\n",
        "    print(\"=\"*80)\n",
        "\n",
        "    for i in range(min(num_pages, total_pages)):\n",
        "        doc = documents[i]\n",
        "        text = doc.page_content\n",
        "\n",
        "        print(f\"\\n--- Page {i+1} ---\\n\")\n",
        "        print(text[:1000] + \"...\" if len(text) > 1000 else text)\n",
        "\n",
        "    print(\"\\n\" + \"=\"*80)"
      ],
      "metadata": {
        "id": "PhfYFeGw2NtH"
      },
      "execution_count": 84,
      "outputs": []
    },
    {
      "cell_type": "markdown",
      "source": [
        "### Loading the Data"
      ],
      "metadata": {
        "id": "DDjgfOge35Z5"
      }
    },
    {
      "cell_type": "code",
      "source": [
        "try:\n",
        "  documents = load_pdf_with_langchain(pdf_path)\n",
        "except:\n",
        "  print(f\"Error loading pdf: {e}\")"
      ],
      "metadata": {
        "colab": {
          "base_uri": "https://localhost:8080/"
        },
        "id": "iB2MJ31T5d3k",
        "outputId": "a0186762-e0dc-459b-dddc-6784fc8fdd47"
      },
      "execution_count": 82,
      "outputs": [
        {
          "output_type": "stream",
          "name": "stdout",
          "text": [
            "PDF loaded successfully: medical_diagnosis_manual.pdf\n",
            "Total pages: 4114\n"
          ]
        }
      ]
    },
    {
      "cell_type": "markdown",
      "source": [
        "#### Checking the first 5 pages"
      ],
      "metadata": {
        "id": "rhiRYMG_6jt-"
      }
    },
    {
      "cell_type": "code",
      "source": [
        "# preview the PDF\n",
        "preview_documents(documents, 5)"
      ],
      "metadata": {
        "colab": {
          "base_uri": "https://localhost:8080/"
        },
        "id": "91p8cWMC31h3",
        "outputId": "37f65777-2670-4147-bff8-d8ad670718ce"
      },
      "execution_count": 85,
      "outputs": [
        {
          "output_type": "stream",
          "name": "stdout",
          "text": [
            "Previewing first 5 pages:\n",
            "================================================================================\n",
            "\n",
            "--- Page 1 ---\n",
            "\n",
            "nipunshah6776@gmail.com\n",
            "0W3XG8QC4A\n",
            "nt for personal use by nipunshah6776@\n",
            "shing the contents in part or full is liable\n",
            "\n",
            "--- Page 2 ---\n",
            "\n",
            "nipunshah6776@gmail.com\n",
            "0W3XG8QC4A\n",
            "This file is meant for personal use by nipunshah6776@gmail.com only.\n",
            "Sharing or publishing the contents in part or full is liable for legal action.\n",
            "\n",
            "--- Page 3 ---\n",
            "\n",
            "Table of Contents\n",
            "1\n",
            "Front    ................................................................................................................................................................................................................\n",
            "1\n",
            "Cover    .......................................................................................................................................................................................................\n",
            "2\n",
            "Front Matter    ...........................................................................................................................................................................................\n",
            "53\n",
            "1 - Nutritional Disorders    ...............................................................................................................................................................\n",
            "53\n",
            "Chapter 1. Nutrition: General Considerations    .........................................................................................................\n",
            "\n",
            "--- Page 4 ---\n",
            "\n",
            "491\n",
            "Chapter 44. Foot & Ankle Disorders    .....................................................................................................................................\n",
            "502\n",
            "Chapter 45. Tumors of Bones & Joints    ...............................................................................................................................\n",
            "510\n",
            "5 - Ear, Nose, Throat & Dental Disorders    ..................................................................................................................\n",
            "510\n",
            "Chapter 46. Approach to the Patient With Ear Problems    ...........................................................................................\n",
            "523\n",
            "Chapter 47. Hearing Loss    .........................................................................................................................................................\n",
            "535\n",
            "Chapter 48. Inner Ear Disorders    ..................................................................................................................\n",
            "\n",
            "--- Page 5 ---\n",
            "\n",
            "921\n",
            "Chapter 94. Adrenal Disorders    ................................................................................................................................................\n",
            "936\n",
            "Chapter 95. Polyglandular Deficiency Syndromes    ........................................................................................................\n",
            "939\n",
            "Chapter 96. Porphyrias    ..............................................................................................................................................................\n",
            "949\n",
            "Chapter 97. Fluid & Electrolyte Metabolism    .....................................................................................................................\n",
            "987\n",
            "Chapter 98. Acid-Base Regulation & Disorders    ..............................................................................................................\n",
            "1001\n",
            "Chapter 99. Diabetes Mellitus & Disorders of Carbohydrate Metabolism    ........................................................\n",
            "1024\n",
            "...\n",
            "\n",
            "================================================================================\n"
          ]
        }
      ]
    },
    {
      "cell_type": "markdown",
      "source": [
        "#### Checking the number of pages"
      ],
      "metadata": {
        "id": "0F0NL59B6g0A"
      }
    },
    {
      "cell_type": "code",
      "source": [
        "print('Total number of pages: ', len(documents))"
      ],
      "metadata": {
        "colab": {
          "base_uri": "https://localhost:8080/"
        },
        "id": "p1SK85ze6wNZ",
        "outputId": "9df6c90f-a3ae-422f-aaf7-361aed958169"
      },
      "execution_count": 87,
      "outputs": [
        {
          "output_type": "stream",
          "name": "stdout",
          "text": [
            "Total number of pages:  4114\n"
          ]
        }
      ]
    },
    {
      "cell_type": "markdown",
      "source": [
        "### Data Overview"
      ],
      "metadata": {
        "id": "neOHKPLY63Lv"
      }
    },
    {
      "cell_type": "code",
      "source": [
        " # Combine all text for statistics\n",
        "full_text = \"\\n\\n\".join([doc.page_content for doc in documents])\n",
        "\n",
        "# Display some statistics about the content\n",
        "lines = full_text.split('\\n')\n",
        "words = re.findall(r'\\w+', full_text)\n",
        "\n",
        "print(f\"\\nPDF loaded successfully with {len(documents)} pages and {len(full_text)} characters\")\n",
        "print(f\"Approximate number of lines: {len(lines)}\")\n",
        "print(f\"Approximate number of words: {len(words)}\")"
      ],
      "metadata": {
        "colab": {
          "base_uri": "https://localhost:8080/"
        },
        "id": "ef4mxA256Zn6",
        "outputId": "be95de30-7fdd-40f3-d82b-c228599dba11"
      },
      "execution_count": 86,
      "outputs": [
        {
          "output_type": "stream",
          "name": "stdout",
          "text": [
            "\n",
            "PDF loaded successfully with 4114 pages and 13703595 characters\n",
            "Approximate number of lines: 207112\n",
            "Approximate number of words: 2027501\n"
          ]
        }
      ]
    },
    {
      "cell_type": "markdown",
      "source": [
        "--- FROM HERE RUN ALL CELLS (AS NOT RUN YETP"
      ],
      "metadata": {
        "id": "tUMaabeCVfLn"
      }
    },
    {
      "cell_type": "markdown",
      "source": [
        "### Data Chunking"
      ],
      "metadata": {
        "id": "oK0ROk0MVpUv"
      }
    },
    {
      "cell_type": "markdown",
      "source": [
        "Using BAAI/bge-small-en-v1.5 (not an OpenAI model), the standard `RecursiveCharacterTextSplitter` would be more appropriate than the tiktoken version.\n",
        "\n",
        "Here's why:\n",
        "\n",
        "1. `RecursiveCharacterTextSplitter.from_tiktoken_encoder()` uses OpenAI's tokenization, which doesn't align with how BGE tokenizes text\n",
        "\n",
        "2. The tokenization mismatch could lead to suboptimal chunk boundaries for your embedding model\n",
        "\n",
        "3. The standard `RecursiveCharacterTextSplitter` with character-based chunking provides more consistent results across different embedding models\n",
        "\n",
        "4. For BGE models, character-based chunking with appropriate chunk size and overlap settings works well in practice\n",
        "\n",
        "\n",
        "This approach will be more aligned with your chosen embedding model and provide more consistent results.\n"
      ],
      "metadata": {
        "id": "PK9isTuhrg2e"
      }
    },
    {
      "cell_type": "code",
      "source": [
        "def create_chunks_from_documents(documents, chunk_size=512, chunk_overlap=50):\n",
        "    \"\"\"\n",
        "    Create chunks from documents using character-based splitting\n",
        "\n",
        "    Args:\n",
        "        documents: List of documents from PyMuPDFLoader\n",
        "        chunk_size: Size of chunks in characters\n",
        "        chunk_overlap: Number of characters to overlap between chunks\n",
        "\n",
        "    Returns:\n",
        "        List of chunked documents\n",
        "    \"\"\"\n",
        "    # Create a character-based splitter (better for non-OpenAI embedding models like BGE)\n",
        "    text_splitter = RecursiveCharacterTextSplitter(\n",
        "        chunk_size=chunk_size,\n",
        "        chunk_overlap=chunk_overlap,\n",
        "    )\n",
        "\n",
        "    # Split the documents into chunks\n",
        "    chunks = text_splitter.split_documents(documents)\n",
        "\n",
        "    print(f\"Created {len(chunks)} chunks from {len(documents)} pages\")\n",
        "    print(f\"Average chunk length: {sum(len(doc.page_content) for doc in chunks) / len(chunks):.2f} characters\")\n",
        "\n",
        "    return chunks"
      ],
      "metadata": {
        "id": "bYFMGsD11WD9"
      },
      "execution_count": null,
      "outputs": []
    },
    {
      "cell_type": "code",
      "source": [
        "def preview_chunks(chunks, num_chunks=2):\n",
        "    \"\"\"\n",
        "    Preview a sample of the created chunks\n",
        "\n",
        "    Args:\n",
        "        chunks: List of document chunks\n",
        "        num_chunks: Number of chunks to preview\n",
        "    \"\"\"\n",
        "    print(f\"\\nPreviewing {min(num_chunks, len(chunks))} chunks out of {len(chunks)}:\")\n",
        "\n",
        "    for i in range(min(num_chunks, len(chunks))):\n",
        "        chunk = chunks[i]\n",
        "        print(f\"\\n--- Chunk {i+1} ---\")\n",
        "\n",
        "        # # Print metadata if available\n",
        "        # if hasattr(chunk, 'metadata') and chunk.metadata:\n",
        "        #     print(f\"Source: {chunk.metadata.get('source')}, Page: {chunk.metadata.get('page')}\")\n",
        "\n",
        "        # Print content preview\n",
        "        content = chunk.page_content\n",
        "        print(f\"Length: {len(content)} characters\")\n",
        "        print(f\"Content preview: {content[:150]}...\")"
      ],
      "metadata": {
        "id": "qTe71qAgVse-"
      },
      "execution_count": null,
      "outputs": []
    },
    {
      "cell_type": "code",
      "source": [
        "chunks = create_chunks_from_documents(documents, chunk_size=512, chunk_overlap=50)"
      ],
      "metadata": {
        "id": "7LRfvf6yW1IG"
      },
      "execution_count": null,
      "outputs": []
    },
    {
      "cell_type": "code",
      "source": [
        "preview_chunks(chunks)"
      ],
      "metadata": {
        "id": "6OMItQiPW3md"
      },
      "execution_count": null,
      "outputs": []
    },
    {
      "cell_type": "markdown",
      "source": [
        "### Embedding"
      ],
      "metadata": {
        "id": "IHptmT_va-gX"
      }
    },
    {
      "cell_type": "code",
      "source": [
        "# ? For medical text retrieval specifically, BAAI/bge-small-en-v1.5 offers the best balance of speed and retrieval\n",
        "EMBEDDING_MODEL_NAME = \"BAAI/bge-small-en-v1.5\"\n",
        "STORE_PATH = \"faiss_index\""
      ],
      "metadata": {
        "id": "HAPQJw4gbBQj"
      },
      "execution_count": null,
      "outputs": []
    },
    {
      "cell_type": "code",
      "source": [
        "def create_embedding_model(model_name, device=\"cuda\"):\n",
        "    \"\"\"\n",
        "    Create an embedding model using the specified model\n",
        "\n",
        "    Args:\n",
        "        model_name: Name of the HuggingFace model to use\n",
        "        device: Device to run the model on (\"cuda\" or \"cpu\")\n",
        "\n",
        "    Returns:\n",
        "        Configured embedding model\n",
        "    \"\"\"\n",
        "    # Check if CUDA is available when device is set to \"cuda\"\n",
        "    if device == \"cuda\" and not torch.cuda.is_available():\n",
        "        print(\"CUDA not available, falling back to CPU\")\n",
        "        device = \"cpu\"\n",
        "\n",
        "    # Configure the embedding model\n",
        "    model_kwargs = {'device': device}\n",
        "    encode_kwargs = {'normalize_embeddings': True}  # Normalize for cosine similarity\n",
        "\n",
        "    # Create the embedding model\n",
        "    embedding_model = HuggingFaceEmbeddings(\n",
        "        model_name=model_name,\n",
        "        model_kwargs=model_kwargs,\n",
        "        encode_kwargs=encode_kwargs\n",
        "    )\n",
        "\n",
        "    print(f\"Embedding model created: {model_name} on {device}\")\n",
        "    return embedding_model"
      ],
      "metadata": {
        "id": "AivEk-_ca6xu"
      },
      "execution_count": null,
      "outputs": []
    },
    {
      "cell_type": "markdown",
      "source": [
        "### Vector Database"
      ],
      "metadata": {
        "id": "dbC2Sm6it3Bw"
      }
    },
    {
      "cell_type": "code",
      "source": [
        "def load_or_create_faiss_vectorstore(\n",
        "    chunks,\n",
        "    embedding_model,\n",
        "    persist_directory=STORE_PATH,\n",
        "):\n",
        "    \"\"\"\n",
        "    Create a FAISS vector store from chunks or load from disk if it exists\n",
        "\n",
        "    Args:\n",
        "        chunks: List of document chunks\n",
        "        embedding_model: The embedding model to use\n",
        "        persist_directory: Directory to save/load the FAISS index\n",
        "\n",
        "    Returns:\n",
        "        FAISS vector store\n",
        "    \"\"\"\n",
        "    index_path = os.path.join(persist_dir, \"index.faiss\")\n",
        "    metadata_path = os.path.join(persist_dir, \"index.pkl\")\n",
        "\n",
        "    # Load if already exists\n",
        "    if os.path.exists(index_path) and os.path.exists(metadata_path):\n",
        "        print(f\"Loading FAISS index from {persist_dir}\")\n",
        "\n",
        "        # Load the existing index\n",
        "        vector_store = FAISS.load_local(persist_directory, embedding_model)\n",
        "        print(f\"Loaded FAISS index with {vector_store.index.ntotal} vectors\")\n",
        "\n",
        "        return vector_store\n",
        "\n",
        "    # Create a new vector store if it doesn't exist\n",
        "    print(\"Creating new FAISS index from documents...\")\n",
        "    start_time = time.time()\n",
        "\n",
        "    # Create the vector store from documents\n",
        "    vector_store = FAISS.from_documents(chunks, embedding_model)\n",
        "\n",
        "    # Else create from documents\n",
        "    print(f\"Creating new FAISS index at {persist_dir}\")\n",
        "    vectorstore = FAISS.from_documents(documents, embedding_model)\n",
        "\n",
        "    elapsed_time = time.time() - start_time\n",
        "    print(f\"FAISS index created in {elapsed_time:.2f} seconds\")\n",
        "    print(f\"Index contains {vector_store.index.ntotal} vectors of dimension {vector_store.index.d}\")\n",
        "\n",
        "    # Create the directory if it doesn't exist\n",
        "    os.makedirs(persist_directory, exist_ok=True)\n",
        "\n",
        "    # Save the index to disk\n",
        "    print(f\"Saving FAISS index to {persist_directory}\")\n",
        "    vector_store.save_local(persist_directory)\n",
        "\n",
        "    vectorstore.save_local(persist_dir)\n",
        "\n",
        "    return vectorstore"
      ],
      "metadata": {
        "id": "mca7hwg-cubB"
      },
      "execution_count": null,
      "outputs": []
    },
    {
      "cell_type": "code",
      "source": [
        "def print_faiss_store_info(store):\n",
        "    print(f\"Total documents: {len(store.docstore._dict)}\")\n",
        "    print(f\"Vector dimension: {store.index.d}\")\n",
        "    print(f\"Index type: {type(store.index).__name__}\")"
      ],
      "metadata": {
        "id": "9hrH0j7mtWQV"
      },
      "execution_count": null,
      "outputs": []
    },
    {
      "cell_type": "markdown",
      "source": [
        "### Retriever"
      ],
      "metadata": {
        "id": "tomKLpq_uNiu"
      }
    },
    {
      "cell_type": "code",
      "source": [
        "def retrieve_from_faiss(vector_store, query, top_k=3):\n",
        "    \"\"\"\n",
        "    Retrieve the top_k most similar chunks for a given query\n",
        "\n",
        "    Args:\n",
        "        vector_store: FAISS vector store\n",
        "        query: Query string\n",
        "        k: Number of chunks to retrieve (default: 5)\n",
        "\n",
        "    Returns:\n",
        "        List of retrieved documents\n",
        "    \"\"\"\n",
        "    # Retrieve the top_k most similar documents and their scores\n",
        "    docs_and_scores = vector_store.similarity_search_with_score(query, k=top_k)\n",
        "\n",
        "    # # Separate documents and scores\n",
        "    # docs = [doc for doc, score in docs_and_scores]\n",
        "    # scores = [score for doc, score in docs_and_scores]\n",
        "\n",
        "    print(f\"Retrieved {len(docs_and_scores)} documents for query: '{query}'\")\n",
        "\n",
        "    docs = []\n",
        "\n",
        "    for i, (doc, score) in enumerate(docs_and_scores):\n",
        "        docs.append(doc)\n",
        "\n",
        "        print(f\"Rank {i+1}:\")\n",
        "        print(f\"Score: {score:.4f}\")\n",
        "\n",
        "        # # Print metadata if available\n",
        "        # if hasattr(doc, 'metadata') and doc.metadata:\n",
        "        #     source = doc.metadata.get('source', 'Unknown')\n",
        "        #     page = doc.metadata.get('page', 'Unknown')\n",
        "        #     print(f\"Source: {source}, Page: {page}\")\n",
        "\n",
        "        # Print content preview (documents are objects with page_content attribute)\n",
        "        content = doc.page_content\n",
        "        preview_length = min(200, len(content))\n",
        "        print(f\"Content: {content[:preview_length]}...\\n\")\n",
        "\n",
        "    return docs"
      ],
      "metadata": {
        "id": "3WXoXeYlubJY"
      },
      "execution_count": null,
      "outputs": []
    },
    {
      "cell_type": "markdown",
      "source": [
        "### System and User Prompt Template"
      ],
      "metadata": {
        "id": "6BGPrx0JArpP"
      }
    },
    {
      "cell_type": "code",
      "source": [
        "RAG_DEFAULT_SYSTEM_MSG = \"\"\"You are a helpful medical assistant. Your task is to answer medical questions based solely on the provided context from the Merck Manual.\n",
        "\n",
        "Guidelines:\n",
        "- Answer ONLY based on the context provided.\n",
        "- If the context doesn't contain the answer, say \"I don't have enough information to answer this question\".\n",
        "- Be concise and accurate in your responses.\n",
        "- For medical conditions, include key information about symptoms, diagnosis, and treatment if available.\n",
        "- Do not fabricate information or use knowledge outside the provided context.\"\"\"\n",
        "# As for now we are not including metadata in user_message putting this below point aside !!\n",
        "# - If relevant and possible, specify which section of the Merck Manual the information comes from.\"\"\"\n"
      ],
      "metadata": {
        "id": "3qHk079NAtVz"
      },
      "execution_count": null,
      "outputs": []
    },
    {
      "cell_type": "code",
      "source": [
        "def create_user_message(query, retrieved_docs, inclue_metadata=FALSE):\n",
        "    \"\"\"\n",
        "    Create the user message portion of the RAG prompt in Phi-3-mini format\n",
        "\n",
        "    Format\n",
        "    ```\n",
        "    Context:\n",
        "    {context}\n",
        "\n",
        "    Question:\n",
        "    ```\n",
        "\n",
        "    Args:\n",
        "        query: User's question\n",
        "        retrieved_docs: List of retrieved documents\n",
        "        num_docs: Number of documents to include\n",
        "\n",
        "    Returns:\n",
        "        (Formatted user message string with context first, then question,\n",
        "        context)\n",
        "    \"\"\"\n",
        "    # Start with the instruction\n",
        "    user_message = \"Use the following context to answer the question.\\n\\nContext:\"\n",
        "\n",
        "    context_value = \"\"\n",
        "\n",
        "    # Add the most relevant documents to the context\n",
        "    for i, doc in enumerate(retrieved_docs):\n",
        "        # Add document content\n",
        "        context_value += f\"\\n\\nDocument {i+1}:\"\n",
        "\n",
        "        # Add metadata if available\n",
        "        if inclue_metadata and hasattr(doc, 'metadata') and doc.metadata:\n",
        "            source = doc.metadata.get('source', '')\n",
        "            page = doc.metadata.get('page', '')\n",
        "            if source or page:\n",
        "                context_value += f\" (Source: {source}, Page: {page})\"\n",
        "\n",
        "        # Add content\n",
        "        context_value += f\"\\n{doc.page_content}\"\n",
        "\n",
        "    user_message += context_value\n",
        "\n",
        "    # Add the question after the context\n",
        "    user_message += f\"\\n\\nQuestion:\\n{query}\"\n",
        "\n",
        "    return user_message, context_value"
      ],
      "metadata": {
        "id": "6OpzvmLuB-XK"
      },
      "execution_count": null,
      "outputs": []
    },
    {
      "cell_type": "code",
      "source": [
        "def create_phi3_rag_prompt(system_message, user_message):\n",
        "    \"\"\"\n",
        "    Create a RAG prompt specifically formatted for Phi-3-mini\n",
        "\n",
        "    Format:-\n",
        "    ```\n",
        "    <|system|>\n",
        "    You are a helpful and concise assistant. Answer based only on the provided context. If the context does not contain enough information, say \"I don't know.\"\n",
        "\n",
        "    <|user|>\n",
        "    Context:\n",
        "    {context}\n",
        "\n",
        "    Question:\n",
        "    {question}\n",
        "    <|assistant|>\n",
        "    ```\n",
        "\n",
        "    Args:\n",
        "        query: User's question\n",
        "        retrieved_docs: List of retrieved documents\n",
        "        num_docs: Number of documents to include in the prompt\n",
        "\n",
        "    Returns:\n",
        "        Formatted prompt string ready for Phi-3-mini\n",
        "    \"\"\"\n",
        "    # Phi-3-mini uses a specific format with <|system|>, <|user|>, and <|assistant|> tags\n",
        "    # Combine into Phi-3 format\n",
        "    # phi3_prompt = f\"<|system|>\\n{system_message}\\n<|user|>\\n{user_message}\\n<|assistant|>\"\n",
        "    # ..\n",
        "    phi3_prompt = (\n",
        "        f\"<|system|>\\n\"\n",
        "        f\"{system_message}\\n\\n\"\n",
        "        f\"<|user|>\\n\"\n",
        "        f\"{user_message}\\n\\n\"\n",
        "        f\"<|assistant|>\"\n",
        "    )\n",
        "\n",
        "    return phi3_prompt"
      ],
      "metadata": {
        "id": "bvEGZ1QR_ZGz"
      },
      "execution_count": null,
      "outputs": []
    },
    {
      "cell_type": "code",
      "source": [
        "def get_rag_response(query, vector_store, llm_model, llm_model_params=dict(), context_k=3, system_message=RAG_DEFAULT_SYSTEM_MSG):\n",
        "    \"\"\"\n",
        "    End-to-end RAG pipeline to answer medical questions\n",
        "\n",
        "    Args:\n",
        "        query: User's medical question\n",
        "        vector_store: FAISS vector store containing Merck Manual chunks\n",
        "        llm_model: The Phi-3-mini model object\n",
        "        llm_model_params: params such as temperature, top_k, .. dictonary to pass to llm model during inferencing\n",
        "        context_k: Number of relevant chunks to retrieve\n",
        "\n",
        "    Returns:\n",
        "        Generated (answer, context) from the LLM\n",
        "    \"\"\"\n",
        "    print(f\"Processing question: '{query}'\")\n",
        "\n",
        "    # Step 1: Retrieve relevant documents\n",
        "    print(\"\\n--- Retrieving relevant documents ---\")\n",
        "    retrieved_docs = retrieve_from_faiss(vector_store, query, top_k=context_k)\n",
        "\n",
        "    # Step 2: Create user message\n",
        "    print(\"\\n--- Creating user message ---\")\n",
        "    user_message, context_val = create_user_message(query, retrieved_docs)\n",
        "\n",
        "    # Step 3: Create RAG prompt\n",
        "    print(\"\\n--- Creating user message ---\")\n",
        "    phi3_prompt = create_phi3_rag_prompt(system_message, user_message)\n",
        "\n",
        "    # Step 4: Generate answer using existing LLM function\n",
        "    print(\"\\n--- Generating answer ---\")\n",
        "    answer = get_response(phi3_prompt, llm_model, params=llm_model_params)\n",
        "\n",
        "    print(\"\\n--- Answer ---\")\n",
        "    print(f\"{answer[:125]}...\") # show only first 125 characters\n",
        "\n",
        "    return (answer, context_val)"
      ],
      "metadata": {
        "id": "U0bj6q7YH9I1"
      },
      "execution_count": null,
      "outputs": []
    },
    {
      "cell_type": "markdown",
      "source": [
        "### Configuration & Usage"
      ],
      "metadata": {
        "id": "6BRPtw3FuWkP"
      }
    },
    {
      "cell_type": "code",
      "source": [
        "# Configure embedding model\n",
        "embedding_model = create_embedding_model()\n",
        "vector_store = create_or_load_vector_store(chunks, embedding_model)"
      ],
      "metadata": {
        "id": "1QRmA_wvo8kD"
      },
      "execution_count": null,
      "outputs": []
    },
    {
      "cell_type": "code",
      "source": [
        "# Show some meta info about store\n",
        "print_faiss_store_info(vector_store)"
      ],
      "metadata": {
        "id": "7McNDCwxtaUJ"
      },
      "execution_count": null,
      "outputs": []
    },
    {
      "cell_type": "markdown",
      "source": [
        "## Question Answering using RAG"
      ],
      "metadata": {
        "id": "v52STc51RnpD"
      }
    },
    {
      "cell_type": "markdown",
      "source": [
        "**Helper class that helps to hold rag tasks info** !!"
      ],
      "metadata": {
        "id": "MvwoYfP7QfkG"
      }
    },
    {
      "cell_type": "code",
      "source": [
        "# Helper class\n",
        "\n",
        "class RAGMeta:\n",
        "    def __init__(self, num_questions):\n",
        "        # Initialize the list with a fixed size of `num_questions`, all set to None initially\n",
        "        self.meta = [None] * num_questions\n",
        "\n",
        "    def register(self, question_num, question, answer, context):\n",
        "        # Ensure the question_num is within bounds\n",
        "        if 0 <= question_num < len(self.meta):\n",
        "            # Register the information for the specified question number\n",
        "            self.meta[question_num] = (question, answer, context)\n",
        "        else:\n",
        "            raise IndexError(\"Question number is out of range\")\n",
        "\n",
        "    def get(self, question_num):\n",
        "        # Retrieve information for the given question number\n",
        "        if 0 <= question_num < len(self.meta):\n",
        "            return self.meta[question_num]\n",
        "        else:\n",
        "            return None  # If question_num doesn't exist yet\n",
        "\n",
        "    def get_all(self):\n",
        "        return list(self.meta)"
      ],
      "metadata": {
        "id": "N2woG0EWQfEP"
      },
      "execution_count": null,
      "outputs": []
    },
    {
      "cell_type": "code",
      "source": [
        "# For medical RAG applications with the Merck Manual, a `top_k` value of 3 - 5 is optimal\n",
        "TO_FETCH_DOC = 3 # from store"
      ],
      "metadata": {
        "id": "8Zf9kuO1RxEj"
      },
      "execution_count": null,
      "outputs": []
    },
    {
      "cell_type": "code",
      "source": [
        "rag_meta = RAGMeta(num_questions=5)"
      ],
      "metadata": {
        "id": "z-oeAbY8QY1Q"
      },
      "execution_count": null,
      "outputs": []
    },
    {
      "cell_type": "code",
      "source": [
        "def process_question_for_rag(i):\n",
        "  print(f'Process Question {i} initiated ---\\n')\n",
        "  (ans, ctxt) = get_rag_response(questions[i], vector_store, llm, context_k=TO_FETCH_DOC)\n",
        "  print('\\n ---- View ---')\n",
        "  display_response(questions[i], response1)"
      ],
      "metadata": {
        "id": "4NGfChUYWGYe"
      },
      "execution_count": null,
      "outputs": []
    },
    {
      "cell_type": "markdown",
      "source": [
        "### Query 1: What is the protocol for managing sepsis in a critical care unit?"
      ],
      "metadata": {
        "id": "C7X_ErBgR3XD"
      }
    },
    {
      "cell_type": "code",
      "source": [
        "i = 0\n",
        "(que, ans, ctxt) = process_question_for_rag(i)\n",
        "rag_meta.register(i, que, ans, ctxt)"
      ],
      "metadata": {
        "id": "ia76AsoER4GB"
      },
      "execution_count": null,
      "outputs": []
    },
    {
      "cell_type": "markdown",
      "source": [
        "### **Fine-tuning**"
      ],
      "metadata": {
        "id": "Zf2dTAmGVvpt"
      }
    },
    {
      "cell_type": "code",
      "source": [
        "# RAG parameter combinations for testing\n",
        "rag_parameter_combinations = [\n",
        "    {\n",
        "        \"top_p\": 0.7,\n",
        "        \"context_k\": 3,\n",
        "        \"temperature\": 0.1,\n",
        "        \"desc\": \"Conservative sampling with focused context and low temperature for maximum factual accuracy\"\n",
        "    },\n",
        "    {\n",
        "        \"top_p\": 0.9,\n",
        "        \"context_k\": 3,\n",
        "        \"temperature\": 0.2,\n",
        "        \"desc\": \"Wider token sampling but focused context with low temperature for balanced precision\"\n",
        "    },\n",
        "    {\n",
        "        \"top_p\": 0.7,\n",
        "        \"context_k\": 5,\n",
        "        \"temperature\": 0.3,\n",
        "        \"desc\": \"Conservative sampling with focused context but higher temperature for more natural responses\"\n",
        "    },\n",
        "    {\n",
        "        \"top_p\": 0.8,\n",
        "        \"context_k\": 5,\n",
        "        \"temperature\": 0.1,\n",
        "        \"desc\": \"Wider token sampling with expanded context but low temperature for comprehensive yet precise answers\"\n",
        "    },\n",
        "    {\n",
        "        \"top_p\": 0.8,\n",
        "        \"context_k\": 3,\n",
        "        \"temperature\": 0.3,\n",
        "        \"desc\": \"Wider token sampling with expanded context and moderate temperature for detailed and varied responses\"\n",
        "    }\n",
        "]"
      ],
      "metadata": {
        "id": "UPen7s-iUprR"
      },
      "execution_count": null,
      "outputs": []
    },
    {
      "cell_type": "code",
      "source": [
        "def test_rag_combinations(question_index):\n",
        "  query = questions[question_index]\n",
        "  for e in combinations:\n",
        "    (ans, _) = get_rag_response(query, vector_store, llm, llm_model_params=e, context_k=e['context_k'])\n",
        "    display_response(query, ans)\n",
        "    print('---\\n')"
      ],
      "metadata": {
        "id": "tODnnBSpWBps"
      },
      "execution_count": null,
      "outputs": []
    },
    {
      "cell_type": "markdown",
      "source": [
        "## Output Evaluation"
      ],
      "metadata": {
        "id": "SNLTNZWtdP0p"
      }
    },
    {
      "cell_type": "code",
      "source": [
        "# helper function\n",
        "\n",
        "def build_rag_eval_prompt(context: str, question: str, answer: str) -> str:\n",
        "    system_message = \"\"\"You are an expert and impartial evaluator of AI-generated answers for medical questions.\n",
        "\n",
        "Your task is to assess the quality of an answer to a given question based on the provided context.\n",
        "\n",
        "Evaluate the answer along two dimensions:\n",
        "\n",
        "1. Groundedness:\n",
        "   - Is the answer supported solely by the provided context?\n",
        "   - Does it avoid including information not present in the context?\n",
        "\n",
        "2. Relevance:\n",
        "   - Does the answer address the question using appropriate information from the context?\n",
        "   - Is the answer complete, relevant, and clearly written?\n",
        "\n",
        "Scoring guidelines:\n",
        "- Groundedness:\n",
        "  1 = Contains significant information not in the context or contradicts the context\n",
        "  2 = Contains some information not supported by the context\n",
        "  3 = Mostly grounded with minor additions not in the context\n",
        "  4 = Fully grounded with very minor phrasing not explicitly in the context\n",
        "  5 = Perfectly grounded, all information comes directly from the context\n",
        "\n",
        "- Relevance:\n",
        "  1 = Does not address the question at all\n",
        "  2 = Partially addresses the question but misses key aspects\n",
        "  3 = Addresses the main question but lacks some important details\n",
        "  4 = Addresses the question well with most relevant details\n",
        "  5 = Perfectly addresses the question with all relevant information from the context\n",
        "\n",
        "Return your evaluation in the following JSON format:\n",
        "\n",
        "{\n",
        "  \"groundedness_assessment\": \"<brief justification>\",\n",
        "  \"groundedness_score\": <score from 1 to 5>,\n",
        "  \"relevance_assessment\": \"<brief justification>\",\n",
        "  \"relevance_score\": <score from 1 to 5>\n",
        "}\n",
        "\n",
        "Keep your assessment justifications brief (1-2 sentences each).\n",
        "Be objective and concise in your justifications. For medical information, accuracy is particularly important.\n",
        "\"\"\"\n",
        "\n",
        "    return f\"\"\"<|system|>\n",
        "{system_message}\n",
        "\n",
        "<|user|>\n",
        "Context:\n",
        "{context}\n",
        "\n",
        "Question:\n",
        "{question}\n",
        "\n",
        "Answer:\n",
        "{answer}\n",
        "\n",
        "Evaluate the answer based on the above criteria and return the output in the specified JSON format.\n",
        "\n",
        "<|assistant|>\"\"\""
      ],
      "metadata": {
        "id": "3gvBk37ncdRU"
      },
      "execution_count": null,
      "outputs": []
    },
    {
      "cell_type": "code",
      "source": [
        "def display_evaluation_results(question, answer, evaluation_result):\n",
        "    \"\"\"\n",
        "    Display the evaluation results for a given question and answer.\n",
        "\n",
        "    Parameters:\n",
        "    - question (str): The question asked.\n",
        "    - answer (str): The AI-generated answer.\n",
        "    - evaluation_result (dict): The evaluation result containing 'groundedness_assessment', 'groundedness_score',\n",
        "      'relevance_assessment', and 'relevance_score'.\n",
        "    \"\"\"\n",
        "    print(\"\\nEvaluation Results for Question: \", question)\n",
        "    print(\"=\"*50)\n",
        "\n",
        "    print(f\"Question: {question}\")\n",
        "    print(f\"Answer: {answer}\\n\")\n",
        "\n",
        "    print(\"\\nEvaluation:\")\n",
        "    print(\"-\" * 50)\n",
        "    print(f\"Groundedness Assessment: {evaluation_result['groundedness_assessment']}\")\n",
        "    print(f\"Groundedness Score: {evaluation_result['groundedness_score']}\")\n",
        "    print(f\"Relevance Assessment: {evaluation_result['relevance_assessment']}\")\n",
        "    print(f\"Relevance Score: {evaluation_result['relevance_score']}\")\n",
        "    print(\"=\"*50)"
      ],
      "metadata": {
        "id": "3aRv9T24hj7C"
      },
      "execution_count": null,
      "outputs": []
    },
    {
      "cell_type": "code",
      "source": [
        "evaluation_model_settings = {\n",
        "    \"max_tokens\": 256,  # Sufficient for concise evaluation with brief justifications\n",
        "    \"temperature\": 0,   # Ensures deterministic, objective output. Avoids randomness.\n",
        "    \"top_p\": 0.7        # Use full probability space, but with temperature=0.0, it's moot\n",
        "}"
      ],
      "metadata": {
        "id": "Ip5mjhx1gTUr"
      },
      "execution_count": null,
      "outputs": []
    },
    {
      "cell_type": "code",
      "source": [
        "eval_results = []\n",
        "\n",
        "for i, (question, answer, context) in enumerate(rag_meta):\n",
        "    eval_prompt = build_eval_prompt(context=context, question=question, answer=answer)\n",
        "    evaluation = get_response(eval_prompt, llm, params=evaluation_model_settings)  # your existing inference function\n",
        "    eval_results.append((i, evaluation))\n",
        "    display_evaluation_results(question, answer, evaluation)"
      ],
      "metadata": {
        "id": "M3_UANaUeVs7"
      },
      "execution_count": null,
      "outputs": []
    },
    {
      "cell_type": "markdown",
      "source": [
        "## Actionable Insights and Business Recommendations"
      ],
      "metadata": {
        "id": "r4BLWv28iYiV"
      }
    },
    {
      "cell_type": "markdown",
      "source": [],
      "metadata": {
        "id": "rpViqcdSiZhH"
      }
    }
  ],
  "metadata": {
    "accelerator": "GPU",
    "colab": {
      "gpuType": "T4",
      "provenance": [],
      "collapsed_sections": [
        "1xsEI4bSolse",
        "4RAXAXDj1H1S",
        "pucFOUJ_1LYA",
        "KS5E6RquunBu",
        "DDjgfOge35Z5",
        "rhiRYMG_6jt-",
        "0F0NL59B6g0A"
      ]
    },
    "kernelspec": {
      "display_name": "Python 3",
      "name": "python3"
    },
    "language_info": {
      "name": "python"
    },
    "widgets": {
      "application/vnd.jupyter.widget-state+json": {
        "0cbe8d5f8d2845febd01b41c8dffb53a": {
          "model_module": "@jupyter-widgets/controls",
          "model_module_version": "1.5.0",
          "model_name": "ProgressStyleModel",
          "state": {
            "_model_module": "@jupyter-widgets/controls",
            "_model_module_version": "1.5.0",
            "_model_name": "ProgressStyleModel",
            "_view_count": null,
            "_view_module": "@jupyter-widgets/base",
            "_view_module_version": "1.2.0",
            "_view_name": "StyleView",
            "bar_color": null,
            "description_width": ""
          }
        },
        "0f2250b5600e49d69b997ba14a8080ca": {
          "model_module": "@jupyter-widgets/base",
          "model_module_version": "1.2.0",
          "model_name": "LayoutModel",
          "state": {
            "_model_module": "@jupyter-widgets/base",
            "_model_module_version": "1.2.0",
            "_model_name": "LayoutModel",
            "_view_count": null,
            "_view_module": "@jupyter-widgets/base",
            "_view_module_version": "1.2.0",
            "_view_name": "LayoutView",
            "align_content": null,
            "align_items": null,
            "align_self": null,
            "border": null,
            "bottom": null,
            "display": null,
            "flex": null,
            "flex_flow": null,
            "grid_area": null,
            "grid_auto_columns": null,
            "grid_auto_flow": null,
            "grid_auto_rows": null,
            "grid_column": null,
            "grid_gap": null,
            "grid_row": null,
            "grid_template_areas": null,
            "grid_template_columns": null,
            "grid_template_rows": null,
            "height": null,
            "justify_content": null,
            "justify_items": null,
            "left": null,
            "margin": null,
            "max_height": null,
            "max_width": null,
            "min_height": null,
            "min_width": null,
            "object_fit": null,
            "object_position": null,
            "order": null,
            "overflow": null,
            "overflow_x": null,
            "overflow_y": null,
            "padding": null,
            "right": null,
            "top": null,
            "visibility": null,
            "width": null
          }
        },
        "12e1bfd15950484da7d4529a43ff6c95": {
          "model_module": "@jupyter-widgets/controls",
          "model_module_version": "1.5.0",
          "model_name": "HTMLModel",
          "state": {
            "_dom_classes": [],
            "_model_module": "@jupyter-widgets/controls",
            "_model_module_version": "1.5.0",
            "_model_name": "HTMLModel",
            "_view_count": null,
            "_view_module": "@jupyter-widgets/controls",
            "_view_module_version": "1.5.0",
            "_view_name": "HTMLView",
            "description": "",
            "description_tooltip": null,
            "layout": "IPY_MODEL_0f2250b5600e49d69b997ba14a8080ca",
            "placeholder": "​",
            "style": "IPY_MODEL_e6d5b395a98c41f9b623ca570493ef5f",
            "value": " 2.39G/2.39G [00:19&lt;00:00, 236MB/s]"
          }
        },
        "3335076cfd934745964f8bb1c018cd5e": {
          "model_module": "@jupyter-widgets/base",
          "model_module_version": "1.2.0",
          "model_name": "LayoutModel",
          "state": {
            "_model_module": "@jupyter-widgets/base",
            "_model_module_version": "1.2.0",
            "_model_name": "LayoutModel",
            "_view_count": null,
            "_view_module": "@jupyter-widgets/base",
            "_view_module_version": "1.2.0",
            "_view_name": "LayoutView",
            "align_content": null,
            "align_items": null,
            "align_self": null,
            "border": null,
            "bottom": null,
            "display": null,
            "flex": null,
            "flex_flow": null,
            "grid_area": null,
            "grid_auto_columns": null,
            "grid_auto_flow": null,
            "grid_auto_rows": null,
            "grid_column": null,
            "grid_gap": null,
            "grid_row": null,
            "grid_template_areas": null,
            "grid_template_columns": null,
            "grid_template_rows": null,
            "height": null,
            "justify_content": null,
            "justify_items": null,
            "left": null,
            "margin": null,
            "max_height": null,
            "max_width": null,
            "min_height": null,
            "min_width": null,
            "object_fit": null,
            "object_position": null,
            "order": null,
            "overflow": null,
            "overflow_x": null,
            "overflow_y": null,
            "padding": null,
            "right": null,
            "top": null,
            "visibility": null,
            "width": null
          }
        },
        "427b53994f7b462da7a3bba13b37fd75": {
          "model_module": "@jupyter-widgets/base",
          "model_module_version": "1.2.0",
          "model_name": "LayoutModel",
          "state": {
            "_model_module": "@jupyter-widgets/base",
            "_model_module_version": "1.2.0",
            "_model_name": "LayoutModel",
            "_view_count": null,
            "_view_module": "@jupyter-widgets/base",
            "_view_module_version": "1.2.0",
            "_view_name": "LayoutView",
            "align_content": null,
            "align_items": null,
            "align_self": null,
            "border": null,
            "bottom": null,
            "display": null,
            "flex": null,
            "flex_flow": null,
            "grid_area": null,
            "grid_auto_columns": null,
            "grid_auto_flow": null,
            "grid_auto_rows": null,
            "grid_column": null,
            "grid_gap": null,
            "grid_row": null,
            "grid_template_areas": null,
            "grid_template_columns": null,
            "grid_template_rows": null,
            "height": null,
            "justify_content": null,
            "justify_items": null,
            "left": null,
            "margin": null,
            "max_height": null,
            "max_width": null,
            "min_height": null,
            "min_width": null,
            "object_fit": null,
            "object_position": null,
            "order": null,
            "overflow": null,
            "overflow_x": null,
            "overflow_y": null,
            "padding": null,
            "right": null,
            "top": null,
            "visibility": null,
            "width": null
          }
        },
        "43263c3124074821a9d93941579dbd19": {
          "model_module": "@jupyter-widgets/controls",
          "model_module_version": "1.5.0",
          "model_name": "HBoxModel",
          "state": {
            "_dom_classes": [],
            "_model_module": "@jupyter-widgets/controls",
            "_model_module_version": "1.5.0",
            "_model_name": "HBoxModel",
            "_view_count": null,
            "_view_module": "@jupyter-widgets/controls",
            "_view_module_version": "1.5.0",
            "_view_name": "HBoxView",
            "box_style": "",
            "children": [
              "IPY_MODEL_5154e8fc4b434839a74f47129da63468",
              "IPY_MODEL_ff24f4756da44603929e968a022a1679",
              "IPY_MODEL_12e1bfd15950484da7d4529a43ff6c95"
            ],
            "layout": "IPY_MODEL_abff450e8429439583bee5ad5e216077"
          }
        },
        "48b339e7f5094589bf216c9379915968": {
          "model_module": "@jupyter-widgets/controls",
          "model_module_version": "1.5.0",
          "model_name": "DescriptionStyleModel",
          "state": {
            "_model_module": "@jupyter-widgets/controls",
            "_model_module_version": "1.5.0",
            "_model_name": "DescriptionStyleModel",
            "_view_count": null,
            "_view_module": "@jupyter-widgets/base",
            "_view_module_version": "1.2.0",
            "_view_name": "StyleView",
            "description_width": ""
          }
        },
        "5154e8fc4b434839a74f47129da63468": {
          "model_module": "@jupyter-widgets/controls",
          "model_module_version": "1.5.0",
          "model_name": "HTMLModel",
          "state": {
            "_dom_classes": [],
            "_model_module": "@jupyter-widgets/controls",
            "_model_module_version": "1.5.0",
            "_model_name": "HTMLModel",
            "_view_count": null,
            "_view_module": "@jupyter-widgets/controls",
            "_view_module_version": "1.5.0",
            "_view_name": "HTMLView",
            "description": "",
            "description_tooltip": null,
            "layout": "IPY_MODEL_3335076cfd934745964f8bb1c018cd5e",
            "placeholder": "​",
            "style": "IPY_MODEL_48b339e7f5094589bf216c9379915968",
            "value": "Phi-3-mini-4k-instruct-q4.gguf: 100%"
          }
        },
        "abff450e8429439583bee5ad5e216077": {
          "model_module": "@jupyter-widgets/base",
          "model_module_version": "1.2.0",
          "model_name": "LayoutModel",
          "state": {
            "_model_module": "@jupyter-widgets/base",
            "_model_module_version": "1.2.0",
            "_model_name": "LayoutModel",
            "_view_count": null,
            "_view_module": "@jupyter-widgets/base",
            "_view_module_version": "1.2.0",
            "_view_name": "LayoutView",
            "align_content": null,
            "align_items": null,
            "align_self": null,
            "border": null,
            "bottom": null,
            "display": null,
            "flex": null,
            "flex_flow": null,
            "grid_area": null,
            "grid_auto_columns": null,
            "grid_auto_flow": null,
            "grid_auto_rows": null,
            "grid_column": null,
            "grid_gap": null,
            "grid_row": null,
            "grid_template_areas": null,
            "grid_template_columns": null,
            "grid_template_rows": null,
            "height": null,
            "justify_content": null,
            "justify_items": null,
            "left": null,
            "margin": null,
            "max_height": null,
            "max_width": null,
            "min_height": null,
            "min_width": null,
            "object_fit": null,
            "object_position": null,
            "order": null,
            "overflow": null,
            "overflow_x": null,
            "overflow_y": null,
            "padding": null,
            "right": null,
            "top": null,
            "visibility": null,
            "width": null
          }
        },
        "e6d5b395a98c41f9b623ca570493ef5f": {
          "model_module": "@jupyter-widgets/controls",
          "model_module_version": "1.5.0",
          "model_name": "DescriptionStyleModel",
          "state": {
            "_model_module": "@jupyter-widgets/controls",
            "_model_module_version": "1.5.0",
            "_model_name": "DescriptionStyleModel",
            "_view_count": null,
            "_view_module": "@jupyter-widgets/base",
            "_view_module_version": "1.2.0",
            "_view_name": "StyleView",
            "description_width": ""
          }
        },
        "ff24f4756da44603929e968a022a1679": {
          "model_module": "@jupyter-widgets/controls",
          "model_module_version": "1.5.0",
          "model_name": "FloatProgressModel",
          "state": {
            "_dom_classes": [],
            "_model_module": "@jupyter-widgets/controls",
            "_model_module_version": "1.5.0",
            "_model_name": "FloatProgressModel",
            "_view_count": null,
            "_view_module": "@jupyter-widgets/controls",
            "_view_module_version": "1.5.0",
            "_view_name": "ProgressView",
            "bar_style": "success",
            "description": "",
            "description_tooltip": null,
            "layout": "IPY_MODEL_427b53994f7b462da7a3bba13b37fd75",
            "max": 2393231072,
            "min": 0,
            "orientation": "horizontal",
            "style": "IPY_MODEL_0cbe8d5f8d2845febd01b41c8dffb53a",
            "value": 2393231072
          }
        }
      }
    }
  },
  "nbformat": 4,
  "nbformat_minor": 0
}