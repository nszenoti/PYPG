{
 "cells": [
  {
   "cell_type": "code",
   "execution_count": 3,
   "metadata": {},
   "outputs": [
    {
     "data": {
      "text/plain": [
       "restaurant\n",
       "A    5\n",
       "B    4\n",
       "C    5\n",
       "dtype: int64"
      ]
     },
     "execution_count": 3,
     "metadata": {},
     "output_type": "execute_result"
    }
   ],
   "source": [
    "import pandas as pd\n",
    "\n",
    "# Sample DataFrame\n",
    "data = {\n",
    "    'restaurant': ['A', 'B', 'A', 'C', 'B', 'C', 'A', 'C', 'B', 'A'],\n",
    "    'rating': [5, 4, 5, 3, 4, 4, 5, 5, 3, 4]\n",
    "}\n",
    "df = pd.DataFrame(data)\n",
    "\n",
    "# Define a function to normalize ratings within each group\n",
    "def normalize_ratings(group):\n",
    "    max_rating = group['rating'].max()\n",
    "    group['normalized_rating'] = group['rating'] / max_rating\n",
    "    return group\n",
    "\n",
    "def max_rating(group):\n",
    "    return group['rating'].max()\n",
    "\n",
    "# Group by restaurant and apply the normalization function\n",
    "# result = df.groupby('restaurant').apply(normalize_ratings)\n",
    "result = df.groupby('restaurant').apply(max_rating)\n",
    "\n",
    "result\n"
   ]
  },
  {
   "cell_type": "code",
   "execution_count": null,
   "metadata": {},
   "outputs": [],
   "source": []
  }
 ],
 "metadata": {
  "kernelspec": {
   "display_name": "base",
   "language": "python",
   "name": "python3"
  },
  "language_info": {
   "codemirror_mode": {
    "name": "ipython",
    "version": 3
   },
   "file_extension": ".py",
   "mimetype": "text/x-python",
   "name": "python",
   "nbconvert_exporter": "python",
   "pygments_lexer": "ipython3",
   "version": "3.11.4"
  }
 },
 "nbformat": 4,
 "nbformat_minor": 2
}
